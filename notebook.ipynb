{
 "cells": [
  {
   "cell_type": "code",
   "execution_count": 1,
   "id": "printable-broadway",
   "metadata": {},
   "outputs": [],
   "source": [
    "import torch\n",
    "import torch.nn as nn\n",
    "import torch.nn.functional as F\n",
    "import torch.optim as optim\n",
    "import torchaudio\n",
    "import torchvision.models as models\n",
    "from torch.utils.data.sampler import SubsetRandomSampler\n",
    "from torchaudio.datasets import SPEECHCOMMANDS\n",
    "\n",
    "import numpy as np\n",
    "import matplotlib.pyplot as plt\n",
    "import os\n",
    "from tqdm import tqdm\n",
    "\n",
    "from dataset import SubsetSC, small_dataset\n",
    "from models import *\n",
    "from utils import *\n",
    "import argparse"
   ]
  },
  {
   "cell_type": "markdown",
   "id": "detected-gravity",
   "metadata": {},
   "source": [
    "## Setting mode and device"
   ]
  },
  {
   "cell_type": "code",
   "execution_count": 3,
   "id": "physical-happening",
   "metadata": {},
   "outputs": [],
   "source": [
    "hard_split = False #wether to use hard split\n",
    "mode = 'human' # define task 'word' and 'human' can be possible\n",
    "device = torch.device(\"cuda\" if torch.cuda.is_available() else \"cpu\")\n",
    "\n",
    "if device == \"cuda\":\n",
    "    num_workers = 1\n",
    "    pin_memory = True\n",
    "else:\n",
    "    num_workers = 0\n",
    "    pin_memory = False"
   ]
  },
  {
   "cell_type": "markdown",
   "id": "interpreted-carroll",
   "metadata": {},
   "source": [
    "## Define Dataset"
   ]
  },
  {
   "cell_type": "code",
   "execution_count": 4,
   "id": "forbidden-founder",
   "metadata": {},
   "outputs": [],
   "source": [
    "dataset = small_dataset('./data_reco', mode, hard_split)\n",
    "\n",
    "if hard_split: # for hard split, do not change this value\n",
    "    validation_split = 0.111112\n",
    "else:\n",
    "    validation_split = 0.2\n",
    "\n",
    "dataset_size = len(dataset)\n",
    "shuffle_dataset = True\n",
    "\n",
    "\n",
    "train_indices = []\n",
    "val_indices = []\n",
    "\n",
    "# if hard split, It split data not to include same data(same word and same people)\n",
    "# both in training and valid\n",
    "if hard_split:\n",
    "    for i, data in enumerate(dataset):\n",
    "        if (data[1][1] != '3') or not(data[1][0] in ['before', 'close', 'continue', 'fast']):\n",
    "            train_indices.append(i)\n",
    "        else:\n",
    "            val_indices.append(i)\n",
    "    dataset.remove()\n",
    "\n",
    "# If not hard split randomly split data\n",
    "else:\n",
    "    indices = list(range(dataset_size))\n",
    "    split = int(np.floor(validation_split * dataset_size))\n",
    "    if shuffle_dataset:\n",
    "        np.random.seed(214)\n",
    "        np.random.shuffle(indices)\n",
    "    train_indices, val_indices = indices[split:], indices[:split]\n",
    "\n",
    "labels = dataset.to_index()\n",
    "train_sampler = SubsetRandomSampler(train_indices)\n",
    "valid_sampler = SubsetRandomSampler(val_indices)\n",
    "\n",
    "\n",
    "\n",
    "batch_size = 8\n",
    "train_loader = torch.utils.data.DataLoader(dataset, batch_size=batch_size, shuffle=False, drop_last=False,\n",
    "                                           collate_fn=collate_fn, sampler=train_sampler)\n",
    "test_loader = torch.utils.data.DataLoader(dataset, batch_size=batch_size, shuffle=False, drop_last=False,\n",
    "                                           collate_fn=collate_fn, sampler=valid_sampler)"
   ]
  },
  {
   "cell_type": "markdown",
   "id": "junior-walter",
   "metadata": {},
   "source": [
    "## Basic Setting such as transform and scaling"
   ]
  },
  {
   "cell_type": "code",
   "execution_count": 5,
   "id": "offshore-skiing",
   "metadata": {},
   "outputs": [],
   "source": [
    "# Basoc Settings\n",
    "sample_rate = dataset[0][2]\n",
    "new_sample_rate = 1000\n",
    "waveform = dataset[0][0]\n",
    "\n",
    "# to spectrogram and scaling\n",
    "transform = torchaudio.transforms.Resample(orig_freq=sample_rate, new_freq=new_sample_rate)\n",
    "spec = torchaudio.transforms.Spectrogram(n_fft=64).to(device)\n",
    "data = next(iter(train_loader))\n",
    "db = torchaudio.transforms.AmplitudeToDB()\n",
    "m = db(spec(data[0].cuda())).mean(axis=0)\n",
    "s = db(spec(data[0].cuda())).std(axis=0)\n",
    "transformed = torchaudio.transforms.Spectrogram(n_fft=64)(waveform)"
   ]
  },
  {
   "cell_type": "markdown",
   "id": "concerned-wyoming",
   "metadata": {},
   "source": [
    "## model define"
   ]
  },
  {
   "cell_type": "code",
   "execution_count": 7,
   "id": "regulation-panic",
   "metadata": {},
   "outputs": [
    {
     "name": "stdout",
     "output_type": "stream",
     "text": [
      "Number of parameters: 166348\n"
     ]
    }
   ],
   "source": [
    "# Model definition\n",
    "model = FC_Net(n_input=transformed.shape[0], n_output=len(labels), batch_size=batch_size)\n",
    "model.to(device)\n",
    "model.train()\n",
    "n = count_parameters(model)\n",
    "print(\"Number of parameters: %s\" % n)\n",
    "optimizer = optim.Adam(model.parameters(), lr=0.001)\n",
    "scheduler = optim.lr_scheduler.StepLR(optimizer, step_size=20, gamma=0.1)\n",
    "\n",
    "log_interval = 300\n",
    "n_epoch = 100\n",
    "max_patient = 50\n",
    "\n",
    "pbar_update = 1 / (len(train_loader) + len(test_loader))\n",
    "losses = []\n",
    "# The transform needs to live on the same device as the model and the data.\n",
    "transform = transform.to(device)"
   ]
  },
  {
   "cell_type": "markdown",
   "id": "threaded-technique",
   "metadata": {},
   "source": [
    "## define Basic Train and test"
   ]
  },
  {
   "cell_type": "code",
   "execution_count": 8,
   "id": "nominated-information",
   "metadata": {},
   "outputs": [],
   "source": [
    "def train(model, epoch, log_interval):\n",
    "    pbar = tqdm(train_loader)\n",
    "    model.train()\n",
    "    correct = 0\n",
    "    for batch_idx, (data, target) in enumerate(pbar):\n",
    "        data = data.to(device)\n",
    "        target = target.to(device)\n",
    "\n",
    "        data = spec(data)\n",
    "        data = db(data)\n",
    "        data = (data - m)/s\n",
    "        output = model(data)\n",
    "        pred = get_likely_index(output)\n",
    "        correct += number_of_correct(pred, target)\n",
    "        loss = F.nll_loss(output.squeeze(), target)\n",
    "\n",
    "        optimizer.zero_grad()\n",
    "        loss.backward()\n",
    "        optimizer.step()\n",
    "        # print training stats\n",
    "        if batch_idx % log_interval == 0:\n",
    "            print(f\"\\nTrain Epoch: {epoch} [{batch_idx * len(data)}/{len(train_loader.dataset)*(1-validation_split)} ({100. * batch_idx / len(train_loader)*(1-validation_split):.0f}%)]\\tLoss: {loss.item():.6f}\")\n",
    "\n",
    "        # update progress bar\n",
    "        pbar.update(pbar_update)\n",
    "        # record loss\n",
    "        losses.append(loss.item())\n",
    "    print(f\"\\nTrain Epoch: {epoch}\\tAccuracy: {correct}/{len(train_loader.dataset)*(1-validation_split)} ({100. * correct / (len(train_loader.dataset)*(1-validation_split)):.0f}%)\\n\")\n",
    "    # count number of correct predictions\n",
    "    return pred.squeeze().eq(target).sum().item()\n",
    "\n",
    "def test(model, epoch, test_loader_):\n",
    "    model.eval()\n",
    "    correct = 0\n",
    "    pbar = tqdm(test_loader_)\n",
    "    for data, target in pbar:\n",
    "        data = data.to(device)\n",
    "        target = target.to(device)        \n",
    "        data = spec(data)\n",
    "        data = db(data)\n",
    "        data = (data - m)/s\n",
    "        output = model(data)\n",
    "        pred = get_likely_index(output)\n",
    "        correct += number_of_correct(pred, target)\n",
    "\n",
    "        # update progress bar\n",
    "        pbar.update(pbar_update)\n",
    "\n",
    "    print(f\"\\nTest Epoch: {epoch}\\tAccuracy: {correct}/{len(test_loader_.dataset)*validation_split} ({100. * correct / (len(test_loader_.dataset)*validation_split):.0f}%)\\n\")\n",
    "    accuracy = 100. * correct / (len(test_loader_.dataset)*validation_split)\n",
    "    return  accuracy"
   ]
  },
  {
   "cell_type": "code",
   "execution_count": 9,
   "id": "universal-perspective",
   "metadata": {},
   "outputs": [
    {
     "name": "stderr",
     "output_type": "stream",
     "text": [
      "  0%|          | 0/100 [00:00<?, ?it/s]\n",
      "  0%|          | 0/88 [00:00<?, ?it/s]\u001b[A\n",
      "  0%|          | 0.20909090909090913/88 [00:00<00:42,  2.08it/s]\u001b[A\n",
      " 27%|██▋       | 23.463636363636333/88 [00:00<00:00, 135.22it/s]\u001b[A"
     ]
    },
    {
     "name": "stdout",
     "output_type": "stream",
     "text": [
      "\n",
      "Train Epoch: 1 [0/702.4000000000001 (0%)]\tLoss: 138.145248\n"
     ]
    },
    {
     "name": "stderr",
     "output_type": "stream",
     "text": [
      "\n",
      "100%|██████████| 88/88 [00:00<00:00, 251.16it/s]                \u001b[A\n",
      "\n",
      "100%|██████████| 22/22 [00:00<00:00, 566.96it/s]\n",
      "\n",
      "  0%|          | 0/88 [00:00<?, ?it/s]\u001b[A\n",
      "  0%|          | 0.23636363636363641/88 [00:00<00:38,  2.30it/s]\u001b[A"
     ]
    },
    {
     "name": "stdout",
     "output_type": "stream",
     "text": [
      "\n",
      "Train Epoch: 1\tAccuracy: 167/702.4000000000001 (24%)\n",
      "\n",
      "\n",
      "Test Epoch: 1\tAccuracy: 64/175.60000000000002 (36%)\n",
      "\n",
      "\n",
      "Train Epoch: 2 [0/702.4000000000001 (0%)]\tLoss: 52.314659\n"
     ]
    },
    {
     "name": "stderr",
     "output_type": "stream",
     "text": [
      "\n",
      " 30%|███       | 26.472727272727244/88 [00:00<00:00, 151.05it/s]\u001b[A\n",
      "100%|██████████| 88/88 [00:00<00:00, 253.52it/s]                \u001b[A\n",
      "\n",
      "100%|██████████| 22/22 [00:00<00:00, 511.45it/s]\n",
      "\n",
      "  0%|          | 0/88 [00:00<?, ?it/s]\u001b[A\n",
      "  0%|          | 0.2545454545454546/88 [00:00<00:35,  2.50it/s]\u001b[A"
     ]
    },
    {
     "name": "stdout",
     "output_type": "stream",
     "text": [
      "\n",
      "Train Epoch: 2\tAccuracy: 233/702.4000000000001 (33%)\n",
      "\n",
      "\n",
      "Test Epoch: 2\tAccuracy: 67/175.60000000000002 (38%)\n",
      "\n",
      "\n",
      "Train Epoch: 3 [0/702.4000000000001 (0%)]\tLoss: 57.798000\n"
     ]
    },
    {
     "name": "stderr",
     "output_type": "stream",
     "text": [
      "\n",
      " 32%|███▏      | 28.499999999999968/88 [00:00<00:00, 165.70it/s]\u001b[A\n",
      "100%|██████████| 88/88 [00:00<00:00, 267.80it/s]                \u001b[A\n",
      "\n",
      "100%|██████████| 22/22 [00:00<00:00, 539.56it/s]\n",
      "\n",
      "  0%|          | 0/88 [00:00<?, ?it/s]\u001b[A\n",
      "  0%|          | 0.2454545454545455/88 [00:00<00:36,  2.38it/s]\u001b[A"
     ]
    },
    {
     "name": "stdout",
     "output_type": "stream",
     "text": [
      "\n",
      "Train Epoch: 3\tAccuracy: 283/702.4000000000001 (40%)\n",
      "\n",
      "\n",
      "Test Epoch: 3\tAccuracy: 77/175.60000000000002 (44%)\n",
      "\n",
      "\n",
      "Train Epoch: 4 [0/702.4000000000001 (0%)]\tLoss: 28.818823\n"
     ]
    },
    {
     "name": "stderr",
     "output_type": "stream",
     "text": [
      "\n",
      " 31%|███       | 27.49090909090906/88 [00:00<00:00, 159.23it/s]\u001b[A\n",
      "100%|██████████| 88/88 [00:00<00:00, 260.78it/s]               \u001b[A\n",
      "\n",
      "100%|██████████| 22/22 [00:00<00:00, 548.94it/s]\n",
      "\n",
      "  0%|          | 0/88 [00:00<?, ?it/s]\u001b[A\n",
      "  0%|          | 0.2545454545454546/88 [00:00<00:35,  2.47it/s]\u001b[A"
     ]
    },
    {
     "name": "stdout",
     "output_type": "stream",
     "text": [
      "\n",
      "Train Epoch: 4\tAccuracy: 304/702.4000000000001 (43%)\n",
      "\n",
      "\n",
      "Test Epoch: 4\tAccuracy: 84/175.60000000000002 (48%)\n",
      "\n",
      "\n",
      "Train Epoch: 5 [0/702.4000000000001 (0%)]\tLoss: 45.548248\n"
     ]
    },
    {
     "name": "stderr",
     "output_type": "stream",
     "text": [
      "\n",
      " 32%|███▏      | 28.499999999999968/88 [00:00<00:00, 162.71it/s]\u001b[A\n",
      "100%|██████████| 88/88 [00:00<00:00, 271.25it/s]                \u001b[A\n",
      "\n",
      "100%|██████████| 22/22 [00:00<00:00, 542.42it/s]\n",
      "\n",
      "  0%|          | 0/88 [00:00<?, ?it/s]\u001b[A\n",
      "  0%|          | 0.22727272727272732/88 [00:00<00:38,  2.25it/s]\u001b[A"
     ]
    },
    {
     "name": "stdout",
     "output_type": "stream",
     "text": [
      "\n",
      "Train Epoch: 5\tAccuracy: 312/702.4000000000001 (44%)\n",
      "\n",
      "\n",
      "Test Epoch: 5\tAccuracy: 90/175.60000000000002 (51%)\n",
      "\n",
      "\n",
      "Train Epoch: 6 [0/702.4000000000001 (0%)]\tLoss: 31.627560\n"
     ]
    },
    {
     "name": "stderr",
     "output_type": "stream",
     "text": [
      "\n",
      " 29%|██▉       | 25.463636363636333/88 [00:00<00:00, 148.52it/s]\u001b[A\n",
      "100%|██████████| 88/88 [00:00<00:00, 255.78it/s]                \u001b[A\n",
      "\n",
      "100%|██████████| 22/22 [00:00<00:00, 558.19it/s]\n",
      "\n",
      "  0%|          | 0/88 [00:00<?, ?it/s]\u001b[A\n",
      "  0%|          | 0.2454545454545455/88 [00:00<00:36,  2.38it/s]\u001b[A"
     ]
    },
    {
     "name": "stdout",
     "output_type": "stream",
     "text": [
      "\n",
      "Train Epoch: 6\tAccuracy: 351/702.4000000000001 (50%)\n",
      "\n",
      "\n",
      "Test Epoch: 6\tAccuracy: 101/175.60000000000002 (58%)\n",
      "\n",
      "\n",
      "Train Epoch: 7 [0/702.4000000000001 (0%)]\tLoss: 36.168472\n"
     ]
    },
    {
     "name": "stderr",
     "output_type": "stream",
     "text": [
      "\n",
      " 31%|███       | 27.481818181818152/88 [00:00<00:00, 157.39it/s]\u001b[A\n",
      "100%|██████████| 88/88 [00:00<00:00, 264.08it/s]                \u001b[A\n",
      "\n",
      "100%|██████████| 22/22 [00:00<00:00, 564.74it/s]\n",
      "\n",
      "  0%|          | 0/88 [00:00<?, ?it/s]\u001b[A\n",
      "  0%|          | 0.2545454545454546/88 [00:00<00:34,  2.52it/s]\u001b[A"
     ]
    },
    {
     "name": "stdout",
     "output_type": "stream",
     "text": [
      "\n",
      "Train Epoch: 7\tAccuracy: 364/702.4000000000001 (52%)\n",
      "\n",
      "\n",
      "Test Epoch: 7\tAccuracy: 100/175.60000000000002 (57%)\n",
      "\n",
      "\n",
      "Train Epoch: 8 [0/702.4000000000001 (0%)]\tLoss: 14.550622\n"
     ]
    },
    {
     "name": "stderr",
     "output_type": "stream",
     "text": [
      "\n",
      " 32%|███▏      | 28.499999999999968/88 [00:00<00:00, 163.81it/s]\u001b[A\n",
      "100%|██████████| 88/88 [00:00<00:00, 274.45it/s]                \u001b[A\n",
      "\n",
      "100%|██████████| 22/22 [00:00<00:00, 515.39it/s]\n",
      "\n",
      "  0%|          | 0/88 [00:00<?, ?it/s]\u001b[A\n",
      "  0%|          | 0.2454545454545455/88 [00:00<00:36,  2.43it/s]\u001b[A"
     ]
    },
    {
     "name": "stdout",
     "output_type": "stream",
     "text": [
      "\n",
      "Train Epoch: 8\tAccuracy: 384/702.4000000000001 (55%)\n",
      "\n",
      "\n",
      "Test Epoch: 8\tAccuracy: 97/175.60000000000002 (55%)\n",
      "\n",
      "\n",
      "Train Epoch: 9 [0/702.4000000000001 (0%)]\tLoss: 21.627253\n"
     ]
    },
    {
     "name": "stderr",
     "output_type": "stream",
     "text": [
      "\n",
      " 31%|███       | 27.463636363636336/88 [00:00<00:00, 159.29it/s]\u001b[A\n",
      "100%|██████████| 88/88 [00:00<00:00, 256.23it/s]                \u001b[A\n",
      "\n",
      "100%|██████████| 22/22 [00:00<00:00, 492.90it/s]\n",
      "\n",
      "  0%|          | 0/88 [00:00<?, ?it/s]\u001b[A\n",
      "  0%|          | 0.27272727272727276/88 [00:00<00:33,  2.64it/s]\u001b[A"
     ]
    },
    {
     "name": "stdout",
     "output_type": "stream",
     "text": [
      "\n",
      "Train Epoch: 9\tAccuracy: 377/702.4000000000001 (54%)\n",
      "\n",
      "\n",
      "Test Epoch: 9\tAccuracy: 107/175.60000000000002 (61%)\n",
      "\n",
      "\n",
      "Train Epoch: 10 [0/702.4000000000001 (0%)]\tLoss: 10.923252\n"
     ]
    },
    {
     "name": "stderr",
     "output_type": "stream",
     "text": [
      "\n",
      " 35%|███▍      | 30.518181818181787/88 [00:00<00:00, 174.95it/s]\u001b[A\n",
      "100%|██████████| 88/88 [00:00<00:00, 275.78it/s]                \u001b[A\n",
      "\n",
      "100%|██████████| 22/22 [00:00<00:00, 545.24it/s]\n",
      "\n",
      "  0%|          | 0/88 [00:00<?, ?it/s]\u001b[A\n",
      "  0%|          | 0.2454545454545455/88 [00:00<00:35,  2.45it/s]\u001b[A"
     ]
    },
    {
     "name": "stdout",
     "output_type": "stream",
     "text": [
      "\n",
      "Train Epoch: 10\tAccuracy: 401/702.4000000000001 (57%)\n",
      "\n",
      "\n",
      "Test Epoch: 10\tAccuracy: 104/175.60000000000002 (59%)\n",
      "\n",
      "\n",
      "Train Epoch: 11 [0/702.4000000000001 (0%)]\tLoss: 10.256920\n"
     ]
    },
    {
     "name": "stderr",
     "output_type": "stream",
     "text": [
      "\n",
      " 31%|███       | 27.499999999999968/88 [00:00<00:00, 160.41it/s]\u001b[A\n",
      "100%|██████████| 88/88 [00:00<00:00, 276.86it/s]                \u001b[A\n",
      "\n",
      "100%|██████████| 22/22 [00:00<00:00, 587.47it/s]\n",
      "\n",
      "  0%|          | 0/88 [00:00<?, ?it/s]\u001b[A\n",
      "  0%|          | 0.2545454545454546/88 [00:00<00:35,  2.48it/s]\u001b[A"
     ]
    },
    {
     "name": "stdout",
     "output_type": "stream",
     "text": [
      "\n",
      "Train Epoch: 11\tAccuracy: 398/702.4000000000001 (57%)\n",
      "\n",
      "\n",
      "Test Epoch: 11\tAccuracy: 113/175.60000000000002 (64%)\n",
      "\n",
      "\n",
      "Train Epoch: 12 [0/702.4000000000001 (0%)]\tLoss: 10.776638\n"
     ]
    },
    {
     "name": "stderr",
     "output_type": "stream",
     "text": [
      "\n",
      " 32%|███▏      | 28.499999999999968/88 [00:00<00:00, 163.80it/s]\u001b[A\n",
      "100%|██████████| 88/88 [00:00<00:00, 261.84it/s]                \u001b[A\n",
      "\n",
      "100%|██████████| 22/22 [00:00<00:00, 526.45it/s]\n",
      "\n",
      "  0%|          | 0/88 [00:00<?, ?it/s]\u001b[A\n",
      "  0%|          | 0.22727272727272732/88 [00:00<00:40,  2.19it/s]\u001b[A"
     ]
    },
    {
     "name": "stdout",
     "output_type": "stream",
     "text": [
      "\n",
      "Train Epoch: 12\tAccuracy: 406/702.4000000000001 (58%)\n",
      "\n",
      "\n",
      "Test Epoch: 12\tAccuracy: 119/175.60000000000002 (68%)\n",
      "\n",
      "\n",
      "Train Epoch: 13 [0/702.4000000000001 (0%)]\tLoss: 12.647511\n"
     ]
    },
    {
     "name": "stderr",
     "output_type": "stream",
     "text": [
      "\n",
      " 29%|██▉       | 25.463636363636333/88 [00:00<00:00, 145.35it/s]\u001b[A\n",
      "100%|██████████| 88/88 [00:00<00:00, 249.11it/s]                \u001b[A\n",
      "\n",
      "100%|██████████| 22/22 [00:00<00:00, 575.01it/s]\n",
      "\n",
      "  0%|          | 0/88 [00:00<?, ?it/s]\u001b[A\n",
      "  0%|          | 0.23636363636363641/88 [00:00<00:37,  2.31it/s]\u001b[A"
     ]
    },
    {
     "name": "stdout",
     "output_type": "stream",
     "text": [
      "\n",
      "Train Epoch: 13\tAccuracy: 429/702.4000000000001 (61%)\n",
      "\n",
      "\n",
      "Test Epoch: 13\tAccuracy: 109/175.60000000000002 (62%)\n",
      "\n",
      "\n",
      "Train Epoch: 14 [0/702.4000000000001 (0%)]\tLoss: 0.443584\n"
     ]
    },
    {
     "name": "stderr",
     "output_type": "stream",
     "text": [
      "\n",
      " 30%|███       | 26.472727272727244/88 [00:00<00:00, 150.70it/s]\u001b[A\n",
      "100%|██████████| 88/88 [00:00<00:00, 249.71it/s]                \u001b[A\n",
      "\n",
      "100%|██████████| 22/22 [00:00<00:00, 524.72it/s]\n",
      "\n",
      "  0%|          | 0/88 [00:00<?, ?it/s]\u001b[A\n",
      "  0%|          | 0.2545454545454546/88 [00:00<00:35,  2.49it/s]\u001b[A"
     ]
    },
    {
     "name": "stdout",
     "output_type": "stream",
     "text": [
      "\n",
      "Train Epoch: 14\tAccuracy: 437/702.4000000000001 (62%)\n",
      "\n",
      "\n",
      "Test Epoch: 14\tAccuracy: 118/175.60000000000002 (67%)\n",
      "\n",
      "\n",
      "Train Epoch: 15 [0/702.4000000000001 (0%)]\tLoss: 6.970041\n"
     ]
    },
    {
     "name": "stderr",
     "output_type": "stream",
     "text": [
      "\n",
      " 32%|███▏      | 28.49090909090906/88 [00:00<00:00, 165.54it/s]\u001b[A\n",
      "100%|██████████| 88/88 [00:00<00:00, 268.41it/s]               \u001b[A\n",
      "\n",
      "100%|██████████| 22/22 [00:00<00:00, 496.96it/s]\n",
      "\n",
      "  0%|          | 0/88 [00:00<?, ?it/s]\u001b[A\n",
      "  0%|          | 0.2454545454545455/88 [00:00<00:36,  2.38it/s]\u001b[A"
     ]
    },
    {
     "name": "stdout",
     "output_type": "stream",
     "text": [
      "\n",
      "Train Epoch: 15\tAccuracy: 465/702.4000000000001 (66%)\n",
      "\n",
      "\n",
      "Test Epoch: 15\tAccuracy: 113/175.60000000000002 (64%)\n",
      "\n",
      "\n",
      "Train Epoch: 16 [0/702.4000000000001 (0%)]\tLoss: 9.135069\n"
     ]
    },
    {
     "name": "stderr",
     "output_type": "stream",
     "text": [
      "\n",
      " 31%|███       | 27.49090909090906/88 [00:00<00:00, 156.76it/s]\u001b[A\n",
      "100%|██████████| 88/88 [00:00<00:00, 256.70it/s]               \u001b[A\n",
      "\n",
      "100%|██████████| 22/22 [00:00<00:00, 515.40it/s]\n",
      "\n",
      "  0%|          | 0/88 [00:00<?, ?it/s]\u001b[A\n",
      "  0%|          | 0.23636363636363641/88 [00:00<00:37,  2.36it/s]\u001b[A"
     ]
    },
    {
     "name": "stdout",
     "output_type": "stream",
     "text": [
      "\n",
      "Train Epoch: 16\tAccuracy: 453/702.4000000000001 (64%)\n",
      "\n",
      "\n",
      "Test Epoch: 16\tAccuracy: 109/175.60000000000002 (62%)\n",
      "\n",
      "\n",
      "Train Epoch: 17 [0/702.4000000000001 (0%)]\tLoss: 0.000006\n"
     ]
    },
    {
     "name": "stderr",
     "output_type": "stream",
     "text": [
      "\n",
      " 30%|███       | 26.472727272727244/88 [00:00<00:00, 152.20it/s]\u001b[A\n",
      "100%|██████████| 88/88 [00:00<00:00, 257.17it/s]                \u001b[A\n",
      "\n",
      "100%|██████████| 22/22 [00:00<00:00, 540.51it/s]\n",
      "\n",
      "  0%|          | 0/88 [00:00<?, ?it/s]\u001b[A\n",
      "  0%|          | 0.17272727272727276/88 [00:00<00:51,  1.72it/s]\u001b[A"
     ]
    },
    {
     "name": "stdout",
     "output_type": "stream",
     "text": [
      "\n",
      "Train Epoch: 17\tAccuracy: 479/702.4000000000001 (68%)\n",
      "\n",
      "\n",
      "Test Epoch: 17\tAccuracy: 120/175.60000000000002 (68%)\n",
      "\n",
      "\n",
      "Train Epoch: 18 [0/702.4000000000001 (0%)]\tLoss: 4.062608\n"
     ]
    },
    {
     "name": "stderr",
     "output_type": "stream",
     "text": [
      "\n",
      " 22%|██▏       | 19.409090909090878/88 [00:00<00:00, 112.33it/s]\u001b[A\n",
      "100%|██████████| 88/88 [00:00<00:00, 245.02it/s]                \u001b[A\n",
      "\n",
      "100%|██████████| 22/22 [00:00<00:00, 570.59it/s]\n",
      "\n",
      "  0%|          | 0/88 [00:00<?, ?it/s]\u001b[A\n",
      "  0%|          | 0.26363636363636367/88 [00:00<00:34,  2.55it/s]\u001b[A"
     ]
    },
    {
     "name": "stdout",
     "output_type": "stream",
     "text": [
      "\n",
      "Train Epoch: 18\tAccuracy: 461/702.4000000000001 (66%)\n",
      "\n",
      "\n",
      "Test Epoch: 18\tAccuracy: 110/175.60000000000002 (63%)\n",
      "\n",
      "\n",
      "Train Epoch: 19 [0/702.4000000000001 (0%)]\tLoss: 2.069664\n"
     ]
    },
    {
     "name": "stderr",
     "output_type": "stream",
     "text": [
      "\n",
      " 34%|███▎      | 29.49999999999997/88 [00:00<00:00, 169.57it/s] \u001b[A\n",
      "100%|██████████| 88/88 [00:00<00:00, 256.08it/s]               \u001b[A\n",
      "\n",
      "100%|██████████| 22/22 [00:00<00:00, 537.72it/s]\n",
      "\n",
      "  0%|          | 0/88 [00:00<?, ?it/s]\u001b[A\n",
      "  0%|          | 0.23636363636363641/88 [00:00<00:37,  2.33it/s]\u001b[A"
     ]
    },
    {
     "name": "stdout",
     "output_type": "stream",
     "text": [
      "\n",
      "Train Epoch: 19\tAccuracy: 487/702.4000000000001 (69%)\n",
      "\n",
      "\n",
      "Test Epoch: 19\tAccuracy: 104/175.60000000000002 (59%)\n",
      "\n",
      "\n",
      "Train Epoch: 20 [0/702.4000000000001 (0%)]\tLoss: 4.055970\n"
     ]
    },
    {
     "name": "stderr",
     "output_type": "stream",
     "text": [
      "\n",
      " 30%|███       | 26.472727272727244/88 [00:00<00:00, 152.51it/s]\u001b[A\n",
      "100%|██████████| 88/88 [00:00<00:00, 254.56it/s]                \u001b[A\n",
      "\n",
      "100%|██████████| 22/22 [00:00<00:00, 593.20it/s]\n",
      "\n",
      "  0%|          | 0/88 [00:00<?, ?it/s]\u001b[A\n",
      "  0%|          | 0.26363636363636367/88 [00:00<00:34,  2.56it/s]\u001b[A"
     ]
    },
    {
     "name": "stdout",
     "output_type": "stream",
     "text": [
      "\n",
      "Train Epoch: 20\tAccuracy: 495/702.4000000000001 (70%)\n",
      "\n",
      "\n",
      "Test Epoch: 20\tAccuracy: 122/175.60000000000002 (69%)\n",
      "\n",
      "\n",
      "Train Epoch: 21 [0/702.4000000000001 (0%)]\tLoss: 4.134876\n"
     ]
    },
    {
     "name": "stderr",
     "output_type": "stream",
     "text": [
      "\n",
      " 34%|███▎      | 29.490909090909064/88 [00:00<00:00, 169.88it/s]\u001b[A\n",
      "100%|██████████| 88/88 [00:00<00:00, 258.58it/s]                \u001b[A\n",
      "\n",
      "100%|██████████| 22/22 [00:00<00:00, 533.78it/s]\n",
      "\n",
      "  0%|          | 0/88 [00:00<?, ?it/s]\u001b[A\n",
      "  0%|          | 0.2454545454545455/88 [00:00<00:35,  2.45it/s]\u001b[A"
     ]
    },
    {
     "name": "stdout",
     "output_type": "stream",
     "text": [
      "\n",
      "Train Epoch: 21\tAccuracy: 492/702.4000000000001 (70%)\n",
      "\n",
      "\n",
      "Test Epoch: 21\tAccuracy: 124/175.60000000000002 (71%)\n",
      "\n",
      "\n",
      "Train Epoch: 22 [0/702.4000000000001 (0%)]\tLoss: 2.994148\n"
     ]
    },
    {
     "name": "stderr",
     "output_type": "stream",
     "text": [
      "\n",
      " 31%|███       | 27.49090909090906/88 [00:00<00:00, 158.10it/s]\u001b[A\n",
      "100%|██████████| 88/88 [00:00<00:00, 263.44it/s]               \u001b[A\n",
      "\n",
      "100%|██████████| 22/22 [00:00<00:00, 564.51it/s]\n",
      "\n",
      "  0%|          | 0/88 [00:00<?, ?it/s]\u001b[A\n",
      "  0%|          | 0.2454545454545455/88 [00:00<00:36,  2.40it/s]\u001b[A"
     ]
    },
    {
     "name": "stdout",
     "output_type": "stream",
     "text": [
      "\n",
      "Train Epoch: 22\tAccuracy: 525/702.4000000000001 (75%)\n",
      "\n",
      "\n",
      "Test Epoch: 22\tAccuracy: 119/175.60000000000002 (68%)\n",
      "\n",
      "\n",
      "Train Epoch: 23 [0/702.4000000000001 (0%)]\tLoss: 1.026803\n"
     ]
    },
    {
     "name": "stderr",
     "output_type": "stream",
     "text": [
      "\n",
      "100%|██████████| 88/88 [00:00<00:00, 255.30it/s]               \u001b[A\n",
      "\n",
      "100%|██████████| 22/22 [00:00<00:00, 528.24it/s]\n",
      "\n",
      "  0%|          | 0/88 [00:00<?, ?it/s]\u001b[A\n",
      "  0%|          | 0.2454545454545455/88 [00:00<00:36,  2.38it/s]\u001b[A"
     ]
    },
    {
     "name": "stdout",
     "output_type": "stream",
     "text": [
      "\n",
      "Train Epoch: 23\tAccuracy: 522/702.4000000000001 (74%)\n",
      "\n",
      "\n",
      "Test Epoch: 23\tAccuracy: 121/175.60000000000002 (69%)\n",
      "\n",
      "\n",
      "Train Epoch: 24 [0/702.4000000000001 (0%)]\tLoss: 1.953631\n"
     ]
    },
    {
     "name": "stderr",
     "output_type": "stream",
     "text": [
      "\n",
      " 31%|███       | 27.45454545454543/88 [00:00<00:00, 156.39it/s]\u001b[A\n",
      "100%|██████████| 88/88 [00:00<00:00, 246.19it/s]               \u001b[A\n",
      "\n",
      "100%|██████████| 22/22 [00:00<00:00, 530.67it/s]\n",
      "\n",
      "  0%|          | 0/88 [00:00<?, ?it/s]\u001b[A\n",
      "  0%|          | 0.23636363636363641/88 [00:00<00:38,  2.28it/s]\u001b[A"
     ]
    },
    {
     "name": "stdout",
     "output_type": "stream",
     "text": [
      "\n",
      "Train Epoch: 24\tAccuracy: 528/702.4000000000001 (75%)\n",
      "\n",
      "\n",
      "Test Epoch: 24\tAccuracy: 122/175.60000000000002 (69%)\n",
      "\n",
      "\n",
      "Train Epoch: 25 [0/702.4000000000001 (0%)]\tLoss: 0.523603\n"
     ]
    },
    {
     "name": "stderr",
     "output_type": "stream",
     "text": [
      "\n",
      " 30%|███       | 26.472727272727244/88 [00:00<00:00, 152.77it/s]\u001b[A\n",
      "100%|██████████| 88/88 [00:00<00:00, 258.84it/s]                \u001b[A\n",
      "\n",
      "100%|██████████| 22/22 [00:00<00:00, 476.70it/s]\n",
      "\n",
      "  0%|          | 0/88 [00:00<?, ?it/s]\u001b[A\n",
      "  0%|          | 0.22727272727272732/88 [00:00<00:38,  2.26it/s]\u001b[A"
     ]
    },
    {
     "name": "stdout",
     "output_type": "stream",
     "text": [
      "\n",
      "Train Epoch: 25\tAccuracy: 515/702.4000000000001 (73%)\n",
      "\n",
      "\n",
      "Test Epoch: 25\tAccuracy: 127/175.60000000000002 (72%)\n",
      "\n",
      "\n",
      "Train Epoch: 26 [0/702.4000000000001 (0%)]\tLoss: 10.917990\n"
     ]
    },
    {
     "name": "stderr",
     "output_type": "stream",
     "text": [
      "\n",
      " 29%|██▉       | 25.48181818181815/88 [00:00<00:00, 147.28it/s] \u001b[A\n",
      "100%|██████████| 88/88 [00:00<00:00, 256.49it/s]               \u001b[A\n",
      "\n",
      "100%|██████████| 22/22 [00:00<00:00, 559.46it/s]\n",
      "\n",
      "  0%|          | 0/88 [00:00<?, ?it/s]\u001b[A\n",
      "  0%|          | 0.22727272727272732/88 [00:00<00:39,  2.23it/s]\u001b[A"
     ]
    },
    {
     "name": "stdout",
     "output_type": "stream",
     "text": [
      "\n",
      "Train Epoch: 26\tAccuracy: 530/702.4000000000001 (75%)\n",
      "\n",
      "\n",
      "Test Epoch: 26\tAccuracy: 118/175.60000000000002 (67%)\n",
      "\n",
      "\n",
      "Train Epoch: 27 [0/702.4000000000001 (0%)]\tLoss: 3.012615\n"
     ]
    },
    {
     "name": "stderr",
     "output_type": "stream",
     "text": [
      "\n",
      " 29%|██▉       | 25.463636363636333/88 [00:00<00:00, 145.54it/s]\u001b[A\n",
      "100%|██████████| 88/88 [00:00<00:00, 247.62it/s]                \u001b[A\n",
      "\n",
      "100%|██████████| 22/22 [00:00<00:00, 497.08it/s]\n",
      "\n",
      "  0%|          | 0/88 [00:00<?, ?it/s]\u001b[A\n",
      "  0%|          | 0.22727272727272732/88 [00:00<00:40,  2.18it/s]\u001b[A"
     ]
    },
    {
     "name": "stdout",
     "output_type": "stream",
     "text": [
      "\n",
      "Train Epoch: 27\tAccuracy: 517/702.4000000000001 (74%)\n",
      "\n",
      "\n",
      "Test Epoch: 27\tAccuracy: 121/175.60000000000002 (69%)\n",
      "\n",
      "\n",
      "Train Epoch: 28 [0/702.4000000000001 (0%)]\tLoss: 8.163878\n"
     ]
    },
    {
     "name": "stderr",
     "output_type": "stream",
     "text": [
      "\n",
      " 29%|██▉       | 25.454545454545425/88 [00:00<00:00, 143.72it/s]\u001b[A\n",
      "100%|██████████| 88/88 [00:00<00:00, 246.65it/s]                \u001b[A\n",
      "\n",
      "100%|██████████| 22/22 [00:00<00:00, 515.98it/s]\n",
      "\n",
      "  0%|          | 0/88 [00:00<?, ?it/s]\u001b[A\n",
      "  0%|          | 0.2545454545454546/88 [00:00<00:34,  2.52it/s]\u001b[A"
     ]
    },
    {
     "name": "stdout",
     "output_type": "stream",
     "text": [
      "\n",
      "Train Epoch: 28\tAccuracy: 518/702.4000000000001 (74%)\n",
      "\n",
      "\n",
      "Test Epoch: 28\tAccuracy: 118/175.60000000000002 (67%)\n",
      "\n",
      "\n",
      "Train Epoch: 29 [0/702.4000000000001 (0%)]\tLoss: 0.161410\n"
     ]
    },
    {
     "name": "stderr",
     "output_type": "stream",
     "text": [
      "\n",
      " 32%|███▏      | 28.509090909090876/88 [00:00<00:00, 163.90it/s]\u001b[A\n",
      "100%|██████████| 88/88 [00:00<00:00, 269.36it/s]                \u001b[A\n",
      "\n",
      "100%|██████████| 22/22 [00:00<00:00, 498.43it/s]\n",
      "\n",
      "  0%|          | 0/88 [00:00<?, ?it/s]\u001b[A\n",
      "  0%|          | 0.21818181818181823/88 [00:00<00:41,  2.13it/s]\u001b[A"
     ]
    },
    {
     "name": "stdout",
     "output_type": "stream",
     "text": [
      "\n",
      "Train Epoch: 29\tAccuracy: 532/702.4000000000001 (76%)\n",
      "\n",
      "\n",
      "Test Epoch: 29\tAccuracy: 122/175.60000000000002 (69%)\n",
      "\n",
      "\n",
      "Train Epoch: 30 [0/702.4000000000001 (0%)]\tLoss: 9.929517\n"
     ]
    },
    {
     "name": "stderr",
     "output_type": "stream",
     "text": [
      "\n",
      " 28%|██▊       | 24.454545454545425/88 [00:00<00:00, 139.79it/s]\u001b[A\n",
      "100%|██████████| 88/88 [00:00<00:00, 248.62it/s]                \u001b[A\n",
      "\n",
      "100%|██████████| 22/22 [00:00<00:00, 560.36it/s]\n",
      "\n",
      "  0%|          | 0/88 [00:00<?, ?it/s]\u001b[A\n",
      "  0%|          | 0.2545454545454546/88 [00:00<00:35,  2.48it/s]\u001b[A"
     ]
    },
    {
     "name": "stdout",
     "output_type": "stream",
     "text": [
      "\n",
      "Train Epoch: 30\tAccuracy: 549/702.4000000000001 (78%)\n",
      "\n",
      "\n",
      "Test Epoch: 30\tAccuracy: 122/175.60000000000002 (69%)\n",
      "\n",
      "\n",
      "Train Epoch: 31 [0/702.4000000000001 (0%)]\tLoss: 0.689922\n"
     ]
    },
    {
     "name": "stderr",
     "output_type": "stream",
     "text": [
      "\n",
      " 32%|███▏      | 28.49090909090906/88 [00:00<00:00, 163.24it/s]\u001b[A\n",
      "100%|██████████| 88/88 [00:00<00:00, 269.47it/s]               \u001b[A\n",
      "\n",
      "100%|██████████| 22/22 [00:00<00:00, 495.37it/s]\n",
      "\n",
      "  0%|          | 0/88 [00:00<?, ?it/s]\u001b[A\n",
      "  0%|          | 0.2454545454545455/88 [00:00<00:36,  2.43it/s]\u001b[A"
     ]
    },
    {
     "name": "stdout",
     "output_type": "stream",
     "text": [
      "\n",
      "Train Epoch: 31\tAccuracy: 519/702.4000000000001 (74%)\n",
      "\n",
      "\n",
      "Test Epoch: 31\tAccuracy: 126/175.60000000000002 (72%)\n",
      "\n",
      "\n",
      "Train Epoch: 32 [0/702.4000000000001 (0%)]\tLoss: 0.259552\n"
     ]
    },
    {
     "name": "stderr",
     "output_type": "stream",
     "text": [
      "\n",
      " 31%|███▏      | 27.509090909090876/88 [00:00<00:00, 159.00it/s]\u001b[A\n",
      "100%|██████████| 88/88 [00:00<00:00, 272.40it/s]                \u001b[A\n",
      "\n",
      "100%|██████████| 22/22 [00:00<00:00, 473.70it/s]\n",
      "\n",
      "  0%|          | 0/88 [00:00<?, ?it/s]\u001b[A\n",
      "  0%|          | 0.2545454545454546/88 [00:00<00:35,  2.47it/s]\u001b[A"
     ]
    },
    {
     "name": "stdout",
     "output_type": "stream",
     "text": [
      "\n",
      "Train Epoch: 32\tAccuracy: 523/702.4000000000001 (74%)\n",
      "\n",
      "\n",
      "Test Epoch: 32\tAccuracy: 124/175.60000000000002 (71%)\n",
      "\n",
      "\n",
      "Train Epoch: 33 [0/702.4000000000001 (0%)]\tLoss: 2.172327\n"
     ]
    },
    {
     "name": "stderr",
     "output_type": "stream",
     "text": [
      "\n",
      " 32%|███▏      | 28.49090909090906/88 [00:00<00:00, 163.57it/s]\u001b[A\n",
      "100%|██████████| 88/88 [00:00<00:00, 258.91it/s]               \u001b[A\n",
      "\n",
      "100%|██████████| 22/22 [00:00<00:00, 502.64it/s]\n",
      "\n",
      "  0%|          | 0/88 [00:00<?, ?it/s]\u001b[A\n",
      "  0%|          | 0.2545454545454546/88 [00:00<00:35,  2.46it/s]\u001b[A"
     ]
    },
    {
     "name": "stdout",
     "output_type": "stream",
     "text": [
      "\n",
      "Train Epoch: 33\tAccuracy: 530/702.4000000000001 (75%)\n",
      "\n",
      "\n",
      "Test Epoch: 33\tAccuracy: 116/175.60000000000002 (66%)\n",
      "\n",
      "\n",
      "Train Epoch: 34 [0/702.4000000000001 (0%)]\tLoss: 1.290517\n"
     ]
    },
    {
     "name": "stderr",
     "output_type": "stream",
     "text": [
      "\n",
      " 32%|███▏      | 28.481818181818152/88 [00:00<00:00, 163.82it/s]\u001b[A\n",
      "100%|██████████| 88/88 [00:00<00:00, 257.56it/s]                \u001b[A\n",
      "\n",
      "100%|██████████| 22/22 [00:00<00:00, 540.25it/s]\n",
      "\n",
      "  0%|          | 0/88 [00:00<?, ?it/s]\u001b[A\n",
      "  0%|          | 0.2545454545454546/88 [00:00<00:34,  2.52it/s]\u001b[A"
     ]
    },
    {
     "name": "stdout",
     "output_type": "stream",
     "text": [
      "\n",
      "Train Epoch: 34\tAccuracy: 527/702.4000000000001 (75%)\n",
      "\n",
      "\n",
      "Test Epoch: 34\tAccuracy: 128/175.60000000000002 (73%)\n",
      "\n",
      "\n",
      "Train Epoch: 35 [0/702.4000000000001 (0%)]\tLoss: 3.785114\n"
     ]
    },
    {
     "name": "stderr",
     "output_type": "stream",
     "text": [
      "\n",
      " 32%|███▏      | 28.499999999999968/88 [00:00<00:00, 164.74it/s]\u001b[A\n",
      "100%|██████████| 88/88 [00:00<00:00, 273.07it/s]                \u001b[A\n",
      "\n",
      "100%|██████████| 22/22 [00:00<00:00, 476.12it/s]\n",
      "\n",
      "  0%|          | 0/88 [00:00<?, ?it/s]\u001b[A\n",
      "  0%|          | 0.2545454545454546/88 [00:00<00:34,  2.54it/s]\u001b[A"
     ]
    },
    {
     "name": "stdout",
     "output_type": "stream",
     "text": [
      "\n",
      "Train Epoch: 35\tAccuracy: 532/702.4000000000001 (76%)\n",
      "\n",
      "\n",
      "Test Epoch: 35\tAccuracy: 120/175.60000000000002 (68%)\n",
      "\n",
      "\n",
      "Train Epoch: 36 [0/702.4000000000001 (0%)]\tLoss: 1.337849\n"
     ]
    },
    {
     "name": "stderr",
     "output_type": "stream",
     "text": [
      "\n",
      " 32%|███▏      | 28.509090909090876/88 [00:00<00:00, 164.61it/s]\u001b[A\n",
      "100%|██████████| 88/88 [00:00<00:00, 273.58it/s]                \u001b[A\n",
      "\n",
      "100%|██████████| 22/22 [00:00<00:00, 544.64it/s]\n",
      "\n",
      "  0%|          | 0/88 [00:00<?, ?it/s]\u001b[A\n",
      "  0%|          | 0.23636363636363641/88 [00:00<00:37,  2.33it/s]\u001b[A"
     ]
    },
    {
     "name": "stdout",
     "output_type": "stream",
     "text": [
      "\n",
      "Train Epoch: 36\tAccuracy: 531/702.4000000000001 (76%)\n",
      "\n",
      "\n",
      "Test Epoch: 36\tAccuracy: 121/175.60000000000002 (69%)\n",
      "\n",
      "\n",
      "Train Epoch: 37 [0/702.4000000000001 (0%)]\tLoss: 0.070727\n"
     ]
    },
    {
     "name": "stderr",
     "output_type": "stream",
     "text": [
      "\n",
      " 30%|███       | 26.472727272727244/88 [00:00<00:00, 153.84it/s]\u001b[A\n",
      "100%|██████████| 88/88 [00:00<00:00, 257.71it/s]                \u001b[A\n",
      "\n",
      "100%|██████████| 22/22 [00:00<00:00, 524.32it/s]\n",
      "\n",
      "  0%|          | 0/88 [00:00<?, ?it/s]\u001b[A\n",
      "  0%|          | 0.22727272727272732/88 [00:00<00:40,  2.18it/s]\u001b[A"
     ]
    },
    {
     "name": "stdout",
     "output_type": "stream",
     "text": [
      "\n",
      "Train Epoch: 37\tAccuracy: 532/702.4000000000001 (76%)\n",
      "\n",
      "\n",
      "Test Epoch: 37\tAccuracy: 122/175.60000000000002 (69%)\n",
      "\n",
      "\n",
      "Train Epoch: 38 [0/702.4000000000001 (0%)]\tLoss: 0.000000\n"
     ]
    },
    {
     "name": "stderr",
     "output_type": "stream",
     "text": [
      "\n",
      " 29%|██▉       | 25.445454545454517/88 [00:00<00:00, 146.50it/s]\u001b[A\n",
      "100%|██████████| 88/88 [00:00<00:00, 245.74it/s]                \u001b[A\n",
      "\n",
      "100%|██████████| 22/22 [00:00<00:00, 506.96it/s]\n",
      "\n",
      "  0%|          | 0/88 [00:00<?, ?it/s]\u001b[A\n",
      "  0%|          | 0.23636363636363641/88 [00:00<00:38,  2.29it/s]\u001b[A"
     ]
    },
    {
     "name": "stdout",
     "output_type": "stream",
     "text": [
      "\n",
      "Train Epoch: 38\tAccuracy: 538/702.4000000000001 (77%)\n",
      "\n",
      "\n",
      "Test Epoch: 38\tAccuracy: 129/175.60000000000002 (73%)\n",
      "\n",
      "\n",
      "Train Epoch: 39 [0/702.4000000000001 (0%)]\tLoss: 4.772701\n"
     ]
    },
    {
     "name": "stderr",
     "output_type": "stream",
     "text": [
      "\n",
      " 30%|███       | 26.472727272727244/88 [00:00<00:00, 152.11it/s]\u001b[A\n",
      "100%|██████████| 88/88 [00:00<00:00, 257.98it/s]                \u001b[A\n",
      "\n",
      "100%|██████████| 22/22 [00:00<00:00, 558.44it/s]\n",
      "\n",
      "  0%|          | 0/88 [00:00<?, ?it/s]\u001b[A\n",
      "  0%|          | 0.23636363636363641/88 [00:00<00:37,  2.36it/s]\u001b[A"
     ]
    },
    {
     "name": "stdout",
     "output_type": "stream",
     "text": [
      "\n",
      "Train Epoch: 39\tAccuracy: 550/702.4000000000001 (78%)\n",
      "\n",
      "\n",
      "Test Epoch: 39\tAccuracy: 118/175.60000000000002 (67%)\n",
      "\n",
      "\n",
      "Train Epoch: 40 [0/702.4000000000001 (0%)]\tLoss: 2.887220\n"
     ]
    },
    {
     "name": "stderr",
     "output_type": "stream",
     "text": [
      "\n",
      " 30%|███       | 26.481818181818152/88 [00:00<00:00, 153.81it/s]\u001b[A\n",
      "100%|██████████| 88/88 [00:00<00:00, 261.59it/s]                \u001b[A\n",
      "\n",
      "100%|██████████| 22/22 [00:00<00:00, 516.58it/s]\n",
      "\n",
      "  0%|          | 0/88 [00:00<?, ?it/s]\u001b[A\n",
      "  0%|          | 0.23636363636363641/88 [00:00<00:37,  2.35it/s]\u001b[A"
     ]
    },
    {
     "name": "stdout",
     "output_type": "stream",
     "text": [
      "\n",
      "Train Epoch: 40\tAccuracy: 528/702.4000000000001 (75%)\n",
      "\n",
      "\n",
      "Test Epoch: 40\tAccuracy: 113/175.60000000000002 (64%)\n",
      "\n",
      "\n",
      "Train Epoch: 41 [0/702.4000000000001 (0%)]\tLoss: 0.107519\n"
     ]
    },
    {
     "name": "stderr",
     "output_type": "stream",
     "text": [
      "\n",
      " 30%|███       | 26.436363636363613/88 [00:00<00:00, 151.90it/s]\u001b[A\n",
      "100%|██████████| 88/88 [00:00<00:00, 238.26it/s]                \u001b[A\n",
      "\n",
      "100%|██████████| 22/22 [00:00<00:00, 440.54it/s]\n",
      "\n",
      "  0%|          | 0/88 [00:00<?, ?it/s]\u001b[A\n",
      "  0%|          | 0.21818181818181823/88 [00:00<00:41,  2.13it/s]\u001b[A"
     ]
    },
    {
     "name": "stdout",
     "output_type": "stream",
     "text": [
      "\n",
      "Train Epoch: 41\tAccuracy: 543/702.4000000000001 (77%)\n",
      "\n",
      "\n",
      "Test Epoch: 41\tAccuracy: 116/175.60000000000002 (66%)\n",
      "\n",
      "\n",
      "Train Epoch: 42 [0/702.4000000000001 (0%)]\tLoss: 4.320290\n"
     ]
    },
    {
     "name": "stderr",
     "output_type": "stream",
     "text": [
      "\n",
      " 28%|██▊       | 24.43636363636361/88 [00:00<00:00, 140.91it/s] \u001b[A\n",
      "100%|██████████| 88/88 [00:00<00:00, 226.31it/s]               \u001b[A\n",
      "\n",
      "100%|██████████| 22/22 [00:00<00:00, 458.41it/s]\n",
      "\n",
      "  0%|          | 0/88 [00:00<?, ?it/s]\u001b[A\n",
      "  0%|          | 0.22727272727272732/88 [00:00<00:39,  2.20it/s]\u001b[A"
     ]
    },
    {
     "name": "stdout",
     "output_type": "stream",
     "text": [
      "\n",
      "Train Epoch: 42\tAccuracy: 533/702.4000000000001 (76%)\n",
      "\n",
      "\n",
      "Test Epoch: 42\tAccuracy: 124/175.60000000000002 (71%)\n",
      "\n",
      "\n",
      "Train Epoch: 43 [0/702.4000000000001 (0%)]\tLoss: 2.652031\n"
     ]
    },
    {
     "name": "stderr",
     "output_type": "stream",
     "text": [
      "\n",
      " 29%|██▉       | 25.445454545454517/88 [00:00<00:00, 145.92it/s]\u001b[A\n",
      "100%|██████████| 88/88 [00:00<00:00, 243.06it/s]                \u001b[A\n",
      "\n",
      "100%|██████████| 22/22 [00:00<00:00, 516.98it/s]\n",
      "\n",
      "  0%|          | 0/88 [00:00<?, ?it/s]\u001b[A\n",
      "  0%|          | 0.22727272727272732/88 [00:00<00:39,  2.24it/s]\u001b[A"
     ]
    },
    {
     "name": "stdout",
     "output_type": "stream",
     "text": [
      "\n",
      "Train Epoch: 43\tAccuracy: 542/702.4000000000001 (77%)\n",
      "\n",
      "\n",
      "Test Epoch: 43\tAccuracy: 121/175.60000000000002 (69%)\n",
      "\n",
      "\n",
      "Train Epoch: 44 [0/702.4000000000001 (0%)]\tLoss: 1.583596\n"
     ]
    },
    {
     "name": "stderr",
     "output_type": "stream",
     "text": [
      "\n",
      " 29%|██▉       | 25.454545454545425/88 [00:00<00:00, 147.55it/s]\u001b[A\n",
      "100%|██████████| 88/88 [00:00<00:00, 258.53it/s]                \u001b[A\n",
      "\n",
      "100%|██████████| 22/22 [00:00<00:00, 507.59it/s]\n",
      "\n",
      "  0%|          | 0/88 [00:00<?, ?it/s]\u001b[A\n",
      "  0%|          | 0.23636363636363641/88 [00:00<00:37,  2.33it/s]\u001b[A"
     ]
    },
    {
     "name": "stdout",
     "output_type": "stream",
     "text": [
      "\n",
      "Train Epoch: 44\tAccuracy: 555/702.4000000000001 (79%)\n",
      "\n",
      "\n",
      "Test Epoch: 44\tAccuracy: 126/175.60000000000002 (72%)\n",
      "\n",
      "\n",
      "Train Epoch: 45 [0/702.4000000000001 (0%)]\tLoss: 3.826762\n"
     ]
    },
    {
     "name": "stderr",
     "output_type": "stream",
     "text": [
      "\n",
      " 30%|███       | 26.463636363636336/88 [00:00<00:00, 153.77it/s]\u001b[A\n",
      "100%|██████████| 88/88 [00:00<00:00, 251.99it/s]                \u001b[A\n",
      "\n",
      "100%|██████████| 22/22 [00:00<00:00, 498.87it/s]\n",
      "\n",
      "  0%|          | 0/88 [00:00<?, ?it/s]\u001b[A\n",
      "  0%|          | 0.2454545454545455/88 [00:00<00:36,  2.43it/s]\u001b[A"
     ]
    },
    {
     "name": "stdout",
     "output_type": "stream",
     "text": [
      "\n",
      "Train Epoch: 45\tAccuracy: 532/702.4000000000001 (76%)\n",
      "\n",
      "\n",
      "Test Epoch: 45\tAccuracy: 115/175.60000000000002 (65%)\n",
      "\n",
      "\n",
      "Train Epoch: 46 [0/702.4000000000001 (0%)]\tLoss: 2.363456\n"
     ]
    },
    {
     "name": "stderr",
     "output_type": "stream",
     "text": [
      "\n",
      " 31%|███       | 27.481818181818152/88 [00:00<00:00, 159.18it/s]\u001b[A\n",
      "100%|██████████| 88/88 [00:00<00:00, 261.56it/s]                \u001b[A\n",
      "\n",
      "100%|██████████| 22/22 [00:00<00:00, 582.33it/s]\n",
      "\n",
      "  0%|          | 0/88 [00:00<?, ?it/s]\u001b[A\n",
      "  0%|          | 0.2454545454545455/88 [00:00<00:35,  2.45it/s]\u001b[A"
     ]
    },
    {
     "name": "stdout",
     "output_type": "stream",
     "text": [
      "\n",
      "Train Epoch: 46\tAccuracy: 566/702.4000000000001 (81%)\n",
      "\n",
      "\n",
      "Test Epoch: 46\tAccuracy: 121/175.60000000000002 (69%)\n",
      "\n",
      "\n",
      "Train Epoch: 47 [0/702.4000000000001 (0%)]\tLoss: 0.045239\n"
     ]
    },
    {
     "name": "stderr",
     "output_type": "stream",
     "text": [
      "\n",
      " 31%|███       | 27.49090909090906/88 [00:00<00:00, 159.69it/s]\u001b[A\n",
      "100%|██████████| 88/88 [00:00<00:00, 265.82it/s]               \u001b[A\n",
      "\n",
      "100%|██████████| 22/22 [00:00<00:00, 512.69it/s]\n",
      "\n",
      "  0%|          | 0/88 [00:00<?, ?it/s]\u001b[A\n",
      "  0%|          | 0.2454545454545455/88 [00:00<00:36,  2.40it/s]\u001b[A"
     ]
    },
    {
     "name": "stdout",
     "output_type": "stream",
     "text": [
      "\n",
      "Train Epoch: 47\tAccuracy: 528/702.4000000000001 (75%)\n",
      "\n",
      "\n",
      "Test Epoch: 47\tAccuracy: 121/175.60000000000002 (69%)\n",
      "\n",
      "\n",
      "Train Epoch: 48 [0/702.4000000000001 (0%)]\tLoss: 3.537112\n"
     ]
    },
    {
     "name": "stderr",
     "output_type": "stream",
     "text": [
      "\n",
      " 31%|███       | 27.481818181818152/88 [00:00<00:00, 158.92it/s]\u001b[A\n",
      "100%|██████████| 88/88 [00:00<00:00, 261.68it/s]                \u001b[A\n",
      "\n",
      "100%|██████████| 22/22 [00:00<00:00, 521.89it/s]\n",
      "\n",
      "  0%|          | 0/88 [00:00<?, ?it/s]\u001b[A\n",
      "  0%|          | 0.2454545454545455/88 [00:00<00:36,  2.43it/s]\u001b[A"
     ]
    },
    {
     "name": "stdout",
     "output_type": "stream",
     "text": [
      "\n",
      "Train Epoch: 48\tAccuracy: 537/702.4000000000001 (76%)\n",
      "\n",
      "\n",
      "Test Epoch: 48\tAccuracy: 122/175.60000000000002 (69%)\n",
      "\n",
      "\n",
      "Train Epoch: 49 [0/702.4000000000001 (0%)]\tLoss: 0.022620\n"
     ]
    },
    {
     "name": "stderr",
     "output_type": "stream",
     "text": [
      "\n",
      " 31%|███       | 27.499999999999968/88 [00:00<00:00, 158.91it/s]\u001b[A\n",
      "100%|██████████| 88/88 [00:00<00:00, 274.50it/s]                \u001b[A\n",
      "\n",
      "100%|██████████| 22/22 [00:00<00:00, 529.30it/s]\n",
      "\n",
      "  0%|          | 0/88 [00:00<?, ?it/s]\u001b[A\n",
      "  0%|          | 0.2545454545454546/88 [00:00<00:34,  2.53it/s]\u001b[A"
     ]
    },
    {
     "name": "stdout",
     "output_type": "stream",
     "text": [
      "\n",
      "Train Epoch: 49\tAccuracy: 539/702.4000000000001 (77%)\n",
      "\n",
      "\n",
      "Test Epoch: 49\tAccuracy: 117/175.60000000000002 (67%)\n",
      "\n",
      "\n",
      "Train Epoch: 50 [0/702.4000000000001 (0%)]\tLoss: 0.535991\n"
     ]
    },
    {
     "name": "stderr",
     "output_type": "stream",
     "text": [
      "\n",
      " 32%|███▏      | 28.499999999999968/88 [00:00<00:00, 163.48it/s]\u001b[A\n",
      "100%|██████████| 88/88 [00:00<00:00, 271.13it/s]                \u001b[A\n",
      "\n",
      "100%|██████████| 22/22 [00:00<00:00, 545.64it/s]\n",
      "\n",
      "  0%|          | 0/88 [00:00<?, ?it/s]\u001b[A\n",
      "  0%|          | 0.23636363636363641/88 [00:00<00:37,  2.36it/s]\u001b[A"
     ]
    },
    {
     "name": "stdout",
     "output_type": "stream",
     "text": [
      "\n",
      "Train Epoch: 50\tAccuracy: 541/702.4000000000001 (77%)\n",
      "\n",
      "\n",
      "Test Epoch: 50\tAccuracy: 120/175.60000000000002 (68%)\n",
      "\n",
      "\n",
      "Train Epoch: 51 [0/702.4000000000001 (0%)]\tLoss: 0.864811\n"
     ]
    },
    {
     "name": "stderr",
     "output_type": "stream",
     "text": [
      "\n",
      " 30%|███       | 26.481818181818152/88 [00:00<00:00, 152.77it/s]\u001b[A\n",
      "100%|██████████| 88/88 [00:00<00:00, 262.43it/s]                \u001b[A\n",
      "\n",
      "100%|██████████| 22/22 [00:00<00:00, 562.36it/s]\n",
      "\n",
      "  0%|          | 0/88 [00:00<?, ?it/s]\u001b[A\n",
      "  0%|          | 0.23636363636363641/88 [00:00<00:37,  2.35it/s]\u001b[A"
     ]
    },
    {
     "name": "stdout",
     "output_type": "stream",
     "text": [
      "\n",
      "Train Epoch: 51\tAccuracy: 541/702.4000000000001 (77%)\n",
      "\n",
      "\n",
      "Test Epoch: 51\tAccuracy: 121/175.60000000000002 (69%)\n",
      "\n",
      "\n",
      "Train Epoch: 52 [0/702.4000000000001 (0%)]\tLoss: 1.966349\n"
     ]
    },
    {
     "name": "stderr",
     "output_type": "stream",
     "text": [
      "\n",
      " 30%|███       | 26.481818181818152/88 [00:00<00:00, 154.59it/s]\u001b[A\n",
      "100%|██████████| 88/88 [00:00<00:00, 263.74it/s]                \u001b[A\n",
      "\n",
      "100%|██████████| 22/22 [00:00<00:00, 575.63it/s]\n",
      "\n",
      "  0%|          | 0/88 [00:00<?, ?it/s]\u001b[A\n",
      "  0%|          | 0.22727272727272732/88 [00:00<00:38,  2.26it/s]\u001b[A"
     ]
    },
    {
     "name": "stdout",
     "output_type": "stream",
     "text": [
      "\n",
      "Train Epoch: 52\tAccuracy: 538/702.4000000000001 (77%)\n",
      "\n",
      "\n",
      "Test Epoch: 52\tAccuracy: 122/175.60000000000002 (69%)\n",
      "\n",
      "\n",
      "Train Epoch: 53 [0/702.4000000000001 (0%)]\tLoss: 1.727107\n"
     ]
    },
    {
     "name": "stderr",
     "output_type": "stream",
     "text": [
      "\n",
      " 29%|██▉       | 25.48181818181815/88 [00:00<00:00, 147.87it/s] \u001b[A\n",
      "100%|██████████| 88/88 [00:00<00:00, 262.92it/s]               \u001b[A\n",
      "\n",
      "100%|██████████| 22/22 [00:00<00:00, 512.78it/s]\n",
      "\n",
      "  0%|          | 0/88 [00:00<?, ?it/s]\u001b[A\n",
      "  0%|          | 0.23636363636363641/88 [00:00<00:37,  2.31it/s]\u001b[A"
     ]
    },
    {
     "name": "stdout",
     "output_type": "stream",
     "text": [
      "\n",
      "Train Epoch: 53\tAccuracy: 555/702.4000000000001 (79%)\n",
      "\n",
      "\n",
      "Test Epoch: 53\tAccuracy: 115/175.60000000000002 (65%)\n",
      "\n",
      "\n",
      "Train Epoch: 54 [0/702.4000000000001 (0%)]\tLoss: 1.092201\n"
     ]
    },
    {
     "name": "stderr",
     "output_type": "stream",
     "text": [
      "\n",
      " 30%|███       | 26.481818181818152/88 [00:00<00:00, 150.89it/s]\u001b[A\n",
      "100%|██████████| 88/88 [00:00<00:00, 253.05it/s]                \u001b[A\n",
      "\n",
      "100%|██████████| 22/22 [00:00<00:00, 509.39it/s]\n",
      "\n",
      "  0%|          | 0/88 [00:00<?, ?it/s]\u001b[A\n",
      "  0%|          | 0.2454545454545455/88 [00:00<00:36,  2.42it/s]\u001b[A"
     ]
    },
    {
     "name": "stdout",
     "output_type": "stream",
     "text": [
      "\n",
      "Train Epoch: 54\tAccuracy: 539/702.4000000000001 (77%)\n",
      "\n",
      "\n",
      "Test Epoch: 54\tAccuracy: 122/175.60000000000002 (69%)\n",
      "\n",
      "\n",
      "Train Epoch: 55 [0/702.4000000000001 (0%)]\tLoss: 5.436273\n"
     ]
    },
    {
     "name": "stderr",
     "output_type": "stream",
     "text": [
      "\n",
      " 31%|███       | 27.49090909090906/88 [00:00<00:00, 158.06it/s]\u001b[A\n",
      "100%|██████████| 88/88 [00:00<00:00, 262.99it/s]               \u001b[A\n",
      "\n",
      "100%|██████████| 22/22 [00:00<00:00, 483.52it/s]\n",
      "\n",
      "  0%|          | 0/88 [00:00<?, ?it/s]\u001b[A\n",
      "  0%|          | 0.23636363636363641/88 [00:00<00:37,  2.34it/s]\u001b[A"
     ]
    },
    {
     "name": "stdout",
     "output_type": "stream",
     "text": [
      "\n",
      "Train Epoch: 55\tAccuracy: 559/702.4000000000001 (80%)\n",
      "\n",
      "\n",
      "Test Epoch: 55\tAccuracy: 124/175.60000000000002 (71%)\n",
      "\n",
      "\n",
      "Train Epoch: 56 [0/702.4000000000001 (0%)]\tLoss: 0.650006\n"
     ]
    },
    {
     "name": "stderr",
     "output_type": "stream",
     "text": [
      "\n",
      " 30%|███       | 26.472727272727244/88 [00:00<00:00, 153.95it/s]\u001b[A\n",
      "100%|██████████| 88/88 [00:00<00:00, 260.11it/s]                \u001b[A\n",
      "\n",
      "100%|██████████| 22/22 [00:00<00:00, 496.65it/s]\n",
      "\n",
      "  0%|          | 0/88 [00:00<?, ?it/s]\u001b[A\n",
      "  0%|          | 0.2454545454545455/88 [00:00<00:36,  2.40it/s]\u001b[A"
     ]
    },
    {
     "name": "stdout",
     "output_type": "stream",
     "text": [
      "\n",
      "Train Epoch: 56\tAccuracy: 539/702.4000000000001 (77%)\n",
      "\n",
      "\n",
      "Test Epoch: 56\tAccuracy: 120/175.60000000000002 (68%)\n",
      "\n",
      "\n",
      "Train Epoch: 57 [0/702.4000000000001 (0%)]\tLoss: 2.180480\n"
     ]
    },
    {
     "name": "stderr",
     "output_type": "stream",
     "text": [
      "\n",
      " 31%|███       | 27.481818181818152/88 [00:00<00:00, 158.58it/s]\u001b[A\n",
      "100%|██████████| 88/88 [00:00<00:00, 263.42it/s]                \u001b[A\n",
      "\n",
      "100%|██████████| 22/22 [00:00<00:00, 482.49it/s]\n",
      "\n",
      "  0%|          | 0/88 [00:00<?, ?it/s]\u001b[A\n",
      "  0%|          | 0.2545454545454546/88 [00:00<00:35,  2.50it/s]\u001b[A"
     ]
    },
    {
     "name": "stdout",
     "output_type": "stream",
     "text": [
      "\n",
      "Train Epoch: 57\tAccuracy: 541/702.4000000000001 (77%)\n",
      "\n",
      "\n",
      "Test Epoch: 57\tAccuracy: 119/175.60000000000002 (68%)\n",
      "\n",
      "\n",
      "Train Epoch: 58 [0/702.4000000000001 (0%)]\tLoss: 1.138315\n"
     ]
    },
    {
     "name": "stderr",
     "output_type": "stream",
     "text": [
      "\n",
      " 32%|███▏      | 28.49090909090906/88 [00:00<00:00, 163.19it/s]\u001b[A\n",
      "100%|██████████| 88/88 [00:00<00:00, 259.62it/s]               \u001b[A\n",
      "\n",
      "100%|██████████| 22/22 [00:00<00:00, 536.66it/s]\n",
      "\n",
      "  0%|          | 0/88 [00:00<?, ?it/s]\u001b[A\n",
      "  0%|          | 0.2545454545454546/88 [00:00<00:34,  2.54it/s]\u001b[A"
     ]
    },
    {
     "name": "stdout",
     "output_type": "stream",
     "text": [
      "\n",
      "Train Epoch: 58\tAccuracy: 570/702.4000000000001 (81%)\n",
      "\n",
      "\n",
      "Test Epoch: 58\tAccuracy: 122/175.60000000000002 (69%)\n",
      "\n",
      "\n",
      "Train Epoch: 59 [0/702.4000000000001 (0%)]\tLoss: 2.989902\n"
     ]
    },
    {
     "name": "stderr",
     "output_type": "stream",
     "text": [
      "\n",
      " 32%|███▏      | 28.499999999999968/88 [00:00<00:00, 166.74it/s]\u001b[A\n",
      "100%|██████████| 88/88 [00:00<00:00, 270.18it/s]                \u001b[A\n",
      "\n",
      "100%|██████████| 22/22 [00:00<00:00, 554.37it/s]\n",
      "\n",
      "  0%|          | 0/88 [00:00<?, ?it/s]\u001b[A\n",
      "  0%|          | 0.23636363636363641/88 [00:00<00:38,  2.30it/s]\u001b[A"
     ]
    },
    {
     "name": "stdout",
     "output_type": "stream",
     "text": [
      "\n",
      "Train Epoch: 59\tAccuracy: 552/702.4000000000001 (79%)\n",
      "\n",
      "\n",
      "Test Epoch: 59\tAccuracy: 128/175.60000000000002 (73%)\n",
      "\n",
      "\n",
      "Train Epoch: 60 [0/702.4000000000001 (0%)]\tLoss: 1.136540\n"
     ]
    },
    {
     "name": "stderr",
     "output_type": "stream",
     "text": [
      "\n",
      " 30%|███       | 26.472727272727244/88 [00:00<00:00, 153.10it/s]\u001b[A\n",
      "100%|██████████| 88/88 [00:00<00:00, 255.79it/s]                \u001b[A\n",
      "\n",
      "100%|██████████| 22/22 [00:00<00:00, 513.73it/s]\n",
      "\n",
      "  0%|          | 0/88 [00:00<?, ?it/s]\u001b[A\n",
      "  0%|          | 0.2454545454545455/88 [00:00<00:35,  2.44it/s]\u001b[A"
     ]
    },
    {
     "name": "stdout",
     "output_type": "stream",
     "text": [
      "\n",
      "Train Epoch: 60\tAccuracy: 546/702.4000000000001 (78%)\n",
      "\n",
      "\n",
      "Test Epoch: 60\tAccuracy: 122/175.60000000000002 (69%)\n",
      "\n",
      "\n",
      "Train Epoch: 61 [0/702.4000000000001 (0%)]\tLoss: 0.123524\n"
     ]
    },
    {
     "name": "stderr",
     "output_type": "stream",
     "text": [
      "\n",
      " 31%|███       | 27.49090909090906/88 [00:00<00:00, 159.73it/s]\u001b[A\n",
      "100%|██████████| 88/88 [00:00<00:00, 266.48it/s]               \u001b[A\n",
      "\n",
      "100%|██████████| 22/22 [00:00<00:00, 551.29it/s]\n",
      "\n",
      "  0%|          | 0/88 [00:00<?, ?it/s]\u001b[A\n",
      "  0%|          | 0.2545454545454546/88 [00:00<00:35,  2.47it/s]\u001b[A"
     ]
    },
    {
     "name": "stdout",
     "output_type": "stream",
     "text": [
      "\n",
      "Train Epoch: 61\tAccuracy: 561/702.4000000000001 (80%)\n",
      "\n",
      "\n",
      "Test Epoch: 61\tAccuracy: 127/175.60000000000002 (72%)\n",
      "\n",
      "\n",
      "Train Epoch: 62 [0/702.4000000000001 (0%)]\tLoss: 4.613302\n"
     ]
    },
    {
     "name": "stderr",
     "output_type": "stream",
     "text": [
      "\n",
      " 32%|███▏      | 28.499999999999968/88 [00:00<00:00, 163.74it/s]\u001b[A\n",
      "100%|██████████| 88/88 [00:00<00:00, 267.47it/s]                \u001b[A\n",
      "\n",
      "100%|██████████| 22/22 [00:00<00:00, 551.64it/s]\n",
      "\n",
      "  0%|          | 0/88 [00:00<?, ?it/s]\u001b[A\n",
      "  0%|          | 0.2454545454545455/88 [00:00<00:36,  2.39it/s]\u001b[A"
     ]
    },
    {
     "name": "stdout",
     "output_type": "stream",
     "text": [
      "\n",
      "Train Epoch: 62\tAccuracy: 549/702.4000000000001 (78%)\n",
      "\n",
      "\n",
      "Test Epoch: 62\tAccuracy: 128/175.60000000000002 (73%)\n",
      "\n",
      "\n",
      "Train Epoch: 63 [0/702.4000000000001 (0%)]\tLoss: 3.865573\n"
     ]
    },
    {
     "name": "stderr",
     "output_type": "stream",
     "text": [
      "\n",
      " 31%|███       | 27.481818181818152/88 [00:00<00:00, 158.92it/s]\u001b[A\n",
      "100%|██████████| 88/88 [00:00<00:00, 260.06it/s]                \u001b[A\n",
      "\n",
      "100%|██████████| 22/22 [00:00<00:00, 568.59it/s]\n",
      "\n",
      "  0%|          | 0/88 [00:00<?, ?it/s]\u001b[A\n",
      "  0%|          | 0.2545454545454546/88 [00:00<00:35,  2.50it/s]\u001b[A"
     ]
    },
    {
     "name": "stdout",
     "output_type": "stream",
     "text": [
      "\n",
      "Train Epoch: 63\tAccuracy: 530/702.4000000000001 (75%)\n",
      "\n",
      "\n",
      "Test Epoch: 63\tAccuracy: 116/175.60000000000002 (66%)\n",
      "\n",
      "\n",
      "Train Epoch: 64 [0/702.4000000000001 (0%)]\tLoss: 0.340077\n"
     ]
    },
    {
     "name": "stderr",
     "output_type": "stream",
     "text": [
      "\n",
      " 32%|███▏      | 28.509090909090876/88 [00:00<00:00, 163.89it/s]\u001b[A\n",
      "100%|██████████| 88/88 [00:00<00:00, 265.32it/s]                \u001b[A\n",
      "\n",
      "100%|██████████| 22/22 [00:00<00:00, 525.06it/s]\n",
      "\n",
      "  0%|          | 0/88 [00:00<?, ?it/s]\u001b[A\n",
      "  0%|          | 0.22727272727272732/88 [00:00<00:39,  2.25it/s]\u001b[A"
     ]
    },
    {
     "name": "stdout",
     "output_type": "stream",
     "text": [
      "\n",
      "Train Epoch: 64\tAccuracy: 550/702.4000000000001 (78%)\n",
      "\n",
      "\n",
      "Test Epoch: 64\tAccuracy: 119/175.60000000000002 (68%)\n",
      "\n",
      "\n",
      "Train Epoch: 65 [0/702.4000000000001 (0%)]\tLoss: 0.598701\n"
     ]
    },
    {
     "name": "stderr",
     "output_type": "stream",
     "text": [
      "\n",
      " 29%|██▉       | 25.463636363636333/88 [00:00<00:00, 146.67it/s]\u001b[A\n",
      "100%|██████████| 88/88 [00:00<00:00, 252.74it/s]                \u001b[A\n",
      "\n",
      "100%|██████████| 22/22 [00:00<00:00, 470.20it/s]\n",
      "\n",
      "  0%|          | 0/88 [00:00<?, ?it/s]\u001b[A\n",
      "  0%|          | 0.22727272727272732/88 [00:00<00:38,  2.26it/s]\u001b[A"
     ]
    },
    {
     "name": "stdout",
     "output_type": "stream",
     "text": [
      "\n",
      "Train Epoch: 65\tAccuracy: 552/702.4000000000001 (79%)\n",
      "\n",
      "\n",
      "Test Epoch: 65\tAccuracy: 120/175.60000000000002 (68%)\n",
      "\n",
      "\n",
      "Train Epoch: 66 [0/702.4000000000001 (0%)]\tLoss: 1.529112\n"
     ]
    },
    {
     "name": "stderr",
     "output_type": "stream",
     "text": [
      "\n",
      " 29%|██▉       | 25.47272727272724/88 [00:00<00:00, 147.46it/s] \u001b[A\n",
      "100%|██████████| 88/88 [00:00<00:00, 260.56it/s]               \u001b[A\n",
      "\n",
      "100%|██████████| 22/22 [00:00<00:00, 570.46it/s]\n",
      "\n",
      "  0%|          | 0/88 [00:00<?, ?it/s]\u001b[A\n",
      "  0%|          | 0.2454545454545455/88 [00:00<00:35,  2.45it/s]\u001b[A"
     ]
    },
    {
     "name": "stdout",
     "output_type": "stream",
     "text": [
      "\n",
      "Train Epoch: 66\tAccuracy: 551/702.4000000000001 (78%)\n",
      "\n",
      "\n",
      "Test Epoch: 66\tAccuracy: 121/175.60000000000002 (69%)\n",
      "\n",
      "\n",
      "Train Epoch: 67 [0/702.4000000000001 (0%)]\tLoss: 0.212300\n"
     ]
    },
    {
     "name": "stderr",
     "output_type": "stream",
     "text": [
      "\n",
      " 31%|███       | 27.49090909090906/88 [00:00<00:00, 159.00it/s]\u001b[A\n",
      "100%|██████████| 88/88 [00:00<00:00, 264.58it/s]               \u001b[A\n",
      "\n",
      "100%|██████████| 22/22 [00:00<00:00, 451.21it/s]\n",
      "\n",
      "  0%|          | 0/88 [00:00<?, ?it/s]\u001b[A\n",
      "  0%|          | 0.2454545454545455/88 [00:00<00:35,  2.45it/s]\u001b[A"
     ]
    },
    {
     "name": "stdout",
     "output_type": "stream",
     "text": [
      "\n",
      "Train Epoch: 67\tAccuracy: 539/702.4000000000001 (77%)\n",
      "\n",
      "\n",
      "Test Epoch: 67\tAccuracy: 125/175.60000000000002 (71%)\n",
      "\n",
      "\n",
      "Train Epoch: 68 [0/702.4000000000001 (0%)]\tLoss: 0.000384\n"
     ]
    },
    {
     "name": "stderr",
     "output_type": "stream",
     "text": [
      "\n",
      " 31%|███       | 27.49090909090906/88 [00:00<00:00, 157.85it/s]\u001b[A\n",
      "100%|██████████| 88/88 [00:00<00:00, 264.64it/s]               \u001b[A\n",
      "\n",
      "100%|██████████| 22/22 [00:00<00:00, 525.09it/s]\n",
      "\n",
      "  0%|          | 0/88 [00:00<?, ?it/s]\u001b[A\n",
      "  0%|          | 0.2454545454545455/88 [00:00<00:37,  2.37it/s]\u001b[A"
     ]
    },
    {
     "name": "stdout",
     "output_type": "stream",
     "text": [
      "\n",
      "Train Epoch: 68\tAccuracy: 546/702.4000000000001 (78%)\n",
      "\n",
      "\n",
      "Test Epoch: 68\tAccuracy: 115/175.60000000000002 (65%)\n",
      "\n",
      "\n",
      "Train Epoch: 69 [0/702.4000000000001 (0%)]\tLoss: 0.447080\n"
     ]
    },
    {
     "name": "stderr",
     "output_type": "stream",
     "text": [
      "\n",
      " 31%|███       | 27.49090909090906/88 [00:00<00:00, 156.50it/s]\u001b[A\n",
      "100%|██████████| 88/88 [00:00<00:00, 256.96it/s]               \u001b[A\n",
      "\n",
      "100%|██████████| 22/22 [00:00<00:00, 507.82it/s]\n",
      "\n",
      "  0%|          | 0/88 [00:00<?, ?it/s]\u001b[A\n",
      "  0%|          | 0.2454545454545455/88 [00:00<00:36,  2.39it/s]\u001b[A"
     ]
    },
    {
     "name": "stdout",
     "output_type": "stream",
     "text": [
      "\n",
      "Train Epoch: 69\tAccuracy: 557/702.4000000000001 (79%)\n",
      "\n",
      "\n",
      "Test Epoch: 69\tAccuracy: 126/175.60000000000002 (72%)\n",
      "\n",
      "\n",
      "Train Epoch: 70 [0/702.4000000000001 (0%)]\tLoss: 2.899770\n"
     ]
    },
    {
     "name": "stderr",
     "output_type": "stream",
     "text": [
      "\n",
      " 31%|███       | 27.499999999999968/88 [00:00<00:00, 158.25it/s]\u001b[A\n",
      "100%|██████████| 88/88 [00:00<00:00, 265.48it/s]                \u001b[A\n",
      "\n",
      "100%|██████████| 22/22 [00:00<00:00, 533.28it/s]\n",
      "\n",
      "  0%|          | 0/88 [00:00<?, ?it/s]\u001b[A\n",
      "  0%|          | 0.23636363636363641/88 [00:00<00:37,  2.31it/s]\u001b[A"
     ]
    },
    {
     "name": "stdout",
     "output_type": "stream",
     "text": [
      "\n",
      "Train Epoch: 70\tAccuracy: 562/702.4000000000001 (80%)\n",
      "\n",
      "\n",
      "Test Epoch: 70\tAccuracy: 123/175.60000000000002 (70%)\n",
      "\n",
      "\n",
      "Train Epoch: 71 [0/702.4000000000001 (0%)]\tLoss: 4.508526\n"
     ]
    },
    {
     "name": "stderr",
     "output_type": "stream",
     "text": [
      "\n",
      " 30%|███       | 26.472727272727244/88 [00:00<00:00, 151.01it/s]\u001b[A\n",
      "100%|██████████| 88/88 [00:00<00:00, 258.86it/s]                \u001b[A\n",
      "\n",
      "100%|██████████| 22/22 [00:00<00:00, 458.48it/s]\n",
      "\n",
      "  0%|          | 0/88 [00:00<?, ?it/s]\u001b[A\n",
      "  0%|          | 0.2545454545454546/88 [00:00<00:35,  2.47it/s]\u001b[A"
     ]
    },
    {
     "name": "stdout",
     "output_type": "stream",
     "text": [
      "\n",
      "Train Epoch: 71\tAccuracy: 540/702.4000000000001 (77%)\n",
      "\n",
      "\n",
      "Test Epoch: 71\tAccuracy: 118/175.60000000000002 (67%)\n",
      "\n",
      "\n",
      "Train Epoch: 72 [0/702.4000000000001 (0%)]\tLoss: 2.500372\n"
     ]
    },
    {
     "name": "stderr",
     "output_type": "stream",
     "text": [
      "\n",
      " 32%|███▏      | 28.499999999999968/88 [00:00<00:00, 162.47it/s]\u001b[A\n",
      "100%|██████████| 88/88 [00:00<00:00, 270.52it/s]                \u001b[A\n",
      "\n",
      "100%|██████████| 22/22 [00:00<00:00, 522.27it/s]\n",
      "\n",
      "  0%|          | 0/88 [00:00<?, ?it/s]\u001b[A\n",
      "  0%|          | 0.2545454545454546/88 [00:00<00:34,  2.54it/s]\u001b[A"
     ]
    },
    {
     "name": "stdout",
     "output_type": "stream",
     "text": [
      "\n",
      "Train Epoch: 72\tAccuracy: 531/702.4000000000001 (76%)\n",
      "\n",
      "\n",
      "Test Epoch: 72\tAccuracy: 121/175.60000000000002 (69%)\n",
      "\n",
      "\n",
      "Train Epoch: 73 [0/702.4000000000001 (0%)]\tLoss: 0.156141\n"
     ]
    },
    {
     "name": "stderr",
     "output_type": "stream",
     "text": [
      "\n",
      " 32%|███▏      | 28.499999999999968/88 [00:00<00:00, 165.42it/s]\u001b[A\n",
      "100%|██████████| 88/88 [00:00<00:00, 259.88it/s]                \u001b[A\n",
      "\n",
      "100%|██████████| 22/22 [00:00<00:00, 564.60it/s]\n",
      "\n",
      "  0%|          | 0/88 [00:00<?, ?it/s]\u001b[A\n",
      " 30%|██▉       | 26.236363636363638/88 [00:00<00:00, 262.10it/s]\u001b[A"
     ]
    },
    {
     "name": "stdout",
     "output_type": "stream",
     "text": [
      "\n",
      "Train Epoch: 73\tAccuracy: 531/702.4000000000001 (76%)\n",
      "\n",
      "\n",
      "Test Epoch: 73\tAccuracy: 126/175.60000000000002 (72%)\n",
      "\n",
      "\n",
      "Train Epoch: 74 [0/702.4000000000001 (0%)]\tLoss: 0.418012\n"
     ]
    },
    {
     "name": "stderr",
     "output_type": "stream",
     "text": [
      "\n",
      " 61%|██████    | 53.245454545454514/88 [00:00<00:00, 261.51it/s]\u001b[A\n",
      "100%|██████████| 88/88 [00:00<00:00, 262.25it/s]                \u001b[A\n",
      "\n",
      "100%|██████████| 22/22 [00:00<00:00, 542.80it/s]\n",
      "\n",
      "  0%|          | 0/88 [00:00<?, ?it/s]\u001b[A\n",
      "  0%|          | 0.2454545454545455/88 [00:00<00:36,  2.38it/s]\u001b[A"
     ]
    },
    {
     "name": "stdout",
     "output_type": "stream",
     "text": [
      "\n",
      "Train Epoch: 74\tAccuracy: 566/702.4000000000001 (81%)\n",
      "\n",
      "\n",
      "Test Epoch: 74\tAccuracy: 116/175.60000000000002 (66%)\n",
      "\n",
      "\n",
      "Train Epoch: 75 [0/702.4000000000001 (0%)]\tLoss: 1.093787\n"
     ]
    },
    {
     "name": "stderr",
     "output_type": "stream",
     "text": [
      "\n",
      " 31%|███       | 27.481818181818152/88 [00:00<00:00, 157.32it/s]\u001b[A\n",
      "100%|██████████| 88/88 [00:00<00:00, 258.30it/s]                \u001b[A\n",
      "\n",
      "100%|██████████| 22/22 [00:00<00:00, 551.95it/s]\n",
      "\n",
      "  0%|          | 0/88 [00:00<?, ?it/s]\u001b[A\n",
      "  0%|          | 0.22727272727272732/88 [00:00<00:40,  2.19it/s]\u001b[A"
     ]
    },
    {
     "name": "stdout",
     "output_type": "stream",
     "text": [
      "\n",
      "Train Epoch: 75\tAccuracy: 542/702.4000000000001 (77%)\n",
      "\n",
      "\n",
      "Test Epoch: 75\tAccuracy: 119/175.60000000000002 (68%)\n",
      "\n",
      "\n",
      "Train Epoch: 76 [0/702.4000000000001 (0%)]\tLoss: 0.838618\n"
     ]
    },
    {
     "name": "stderr",
     "output_type": "stream",
     "text": [
      "\n",
      " 29%|██▉       | 25.47272727272724/88 [00:00<00:00, 146.73it/s] \u001b[A\n",
      "100%|██████████| 88/88 [00:00<00:00, 257.66it/s]               \u001b[A\n",
      "\n",
      "100%|██████████| 22/22 [00:00<00:00, 541.14it/s]\n",
      "\n",
      "  0%|          | 0/88 [00:00<?, ?it/s]\u001b[A\n",
      "  0%|          | 0.2454545454545455/88 [00:00<00:37,  2.37it/s]\u001b[A"
     ]
    },
    {
     "name": "stdout",
     "output_type": "stream",
     "text": [
      "\n",
      "Train Epoch: 76\tAccuracy: 553/702.4000000000001 (79%)\n",
      "\n",
      "\n",
      "Test Epoch: 76\tAccuracy: 124/175.60000000000002 (71%)\n",
      "\n",
      "\n",
      "Train Epoch: 77 [0/702.4000000000001 (0%)]\tLoss: 0.333929\n"
     ]
    },
    {
     "name": "stderr",
     "output_type": "stream",
     "text": [
      "\n",
      " 31%|███       | 27.481818181818152/88 [00:00<00:00, 157.64it/s]\u001b[A\n",
      "100%|██████████| 88/88 [00:00<00:00, 260.63it/s]                \u001b[A\n",
      "\n",
      "100%|██████████| 22/22 [00:00<00:00, 511.44it/s]\n",
      "\n",
      "  0%|          | 0/88 [00:00<?, ?it/s]\u001b[A\n",
      "  0%|          | 0.21818181818181823/88 [00:00<00:41,  2.13it/s]\u001b[A"
     ]
    },
    {
     "name": "stdout",
     "output_type": "stream",
     "text": [
      "\n",
      "Train Epoch: 77\tAccuracy: 532/702.4000000000001 (76%)\n",
      "\n",
      "\n",
      "Test Epoch: 77\tAccuracy: 120/175.60000000000002 (68%)\n",
      "\n",
      "\n",
      "Train Epoch: 78 [0/702.4000000000001 (0%)]\tLoss: 0.000161\n"
     ]
    },
    {
     "name": "stderr",
     "output_type": "stream",
     "text": [
      "\n",
      " 28%|██▊       | 24.454545454545425/88 [00:00<00:00, 141.43it/s]\u001b[A\n",
      "100%|██████████| 88/88 [00:00<00:00, 252.75it/s]                \u001b[A\n",
      "\n",
      "100%|██████████| 22/22 [00:00<00:00, 483.88it/s]\n",
      "\n",
      "  0%|          | 0/88 [00:00<?, ?it/s]\u001b[A\n",
      "  0%|          | 0.2545454545454546/88 [00:00<00:34,  2.52it/s]\u001b[A"
     ]
    },
    {
     "name": "stdout",
     "output_type": "stream",
     "text": [
      "\n",
      "Train Epoch: 78\tAccuracy: 534/702.4000000000001 (76%)\n",
      "\n",
      "\n",
      "Test Epoch: 78\tAccuracy: 126/175.60000000000002 (72%)\n",
      "\n",
      "\n",
      "Train Epoch: 79 [0/702.4000000000001 (0%)]\tLoss: 0.790968\n"
     ]
    },
    {
     "name": "stderr",
     "output_type": "stream",
     "text": [
      "\n",
      " 32%|███▏      | 28.499999999999968/88 [00:00<00:00, 165.73it/s]\u001b[A\n",
      "100%|██████████| 88/88 [00:00<00:00, 266.55it/s]                \u001b[A\n",
      "\n",
      "100%|██████████| 22/22 [00:00<00:00, 473.60it/s]\n",
      "\n",
      "  0%|          | 0/88 [00:00<?, ?it/s]\u001b[A\n",
      "  0%|          | 0.23636363636363641/88 [00:00<00:37,  2.35it/s]\u001b[A"
     ]
    },
    {
     "name": "stdout",
     "output_type": "stream",
     "text": [
      "\n",
      "Train Epoch: 79\tAccuracy: 543/702.4000000000001 (77%)\n",
      "\n",
      "\n",
      "Test Epoch: 79\tAccuracy: 122/175.60000000000002 (69%)\n",
      "\n",
      "\n",
      "Train Epoch: 80 [0/702.4000000000001 (0%)]\tLoss: 0.000140\n"
     ]
    },
    {
     "name": "stderr",
     "output_type": "stream",
     "text": [
      "\n",
      " 30%|███       | 26.49090909090906/88 [00:00<00:00, 152.66it/s] \u001b[A\n",
      "100%|██████████| 88/88 [00:00<00:00, 265.13it/s]               \u001b[A\n",
      "\n",
      "100%|██████████| 22/22 [00:00<00:00, 583.82it/s]\n",
      "\n",
      "  0%|          | 0/88 [00:00<?, ?it/s]\u001b[A\n",
      "  0%|          | 0.23636363636363641/88 [00:00<00:37,  2.32it/s]\u001b[A"
     ]
    },
    {
     "name": "stdout",
     "output_type": "stream",
     "text": [
      "\n",
      "Train Epoch: 80\tAccuracy: 551/702.4000000000001 (78%)\n",
      "\n",
      "\n",
      "Test Epoch: 80\tAccuracy: 120/175.60000000000002 (68%)\n",
      "\n",
      "\n",
      "Train Epoch: 81 [0/702.4000000000001 (0%)]\tLoss: 1.523962\n"
     ]
    },
    {
     "name": "stderr",
     "output_type": "stream",
     "text": [
      "\n",
      " 30%|███       | 26.472727272727244/88 [00:00<00:00, 153.61it/s]\u001b[A\n",
      "100%|██████████| 88/88 [00:00<00:00, 255.35it/s]                \u001b[A\n",
      "\n",
      "100%|██████████| 22/22 [00:00<00:00, 543.49it/s]\n",
      "\n",
      "  0%|          | 0/88 [00:00<?, ?it/s]\u001b[A\n",
      "  0%|          | 0.23636363636363641/88 [00:00<00:37,  2.36it/s]\u001b[A"
     ]
    },
    {
     "name": "stdout",
     "output_type": "stream",
     "text": [
      "\n",
      "Train Epoch: 81\tAccuracy: 557/702.4000000000001 (79%)\n",
      "\n",
      "\n",
      "Test Epoch: 81\tAccuracy: 124/175.60000000000002 (71%)\n",
      "\n",
      "\n",
      "Train Epoch: 82 [0/702.4000000000001 (0%)]\tLoss: 2.949779\n"
     ]
    },
    {
     "name": "stderr",
     "output_type": "stream",
     "text": [
      "\n",
      " 30%|███       | 26.481818181818152/88 [00:00<00:00, 153.82it/s]\u001b[A\n",
      "100%|██████████| 88/88 [00:00<00:00, 267.83it/s]                \u001b[A\n",
      "\n",
      "100%|██████████| 22/22 [00:00<00:00, 527.05it/s]\n",
      "\n",
      "  0%|          | 0/88 [00:00<?, ?it/s]\u001b[A\n",
      "  0%|          | 0.2454545454545455/88 [00:00<00:36,  2.41it/s]\u001b[A"
     ]
    },
    {
     "name": "stdout",
     "output_type": "stream",
     "text": [
      "\n",
      "Train Epoch: 82\tAccuracy: 549/702.4000000000001 (78%)\n",
      "\n",
      "\n",
      "Test Epoch: 82\tAccuracy: 122/175.60000000000002 (69%)\n",
      "\n",
      "\n",
      "Train Epoch: 83 [0/702.4000000000001 (0%)]\tLoss: 0.002135\n"
     ]
    },
    {
     "name": "stderr",
     "output_type": "stream",
     "text": [
      "\n",
      " 31%|███       | 27.472727272727244/88 [00:00<00:00, 159.34it/s]\u001b[A\n",
      "100%|██████████| 88/88 [00:00<00:00, 260.40it/s]                \u001b[A\n",
      "\n",
      "100%|██████████| 22/22 [00:00<00:00, 548.19it/s]\n",
      "\n",
      "  0%|          | 0/88 [00:00<?, ?it/s]\u001b[A\n",
      "  0%|          | 0.26363636363636367/88 [00:00<00:33,  2.58it/s]\u001b[A"
     ]
    },
    {
     "name": "stdout",
     "output_type": "stream",
     "text": [
      "\n",
      "Train Epoch: 83\tAccuracy: 552/702.4000000000001 (79%)\n",
      "\n",
      "\n",
      "Test Epoch: 83\tAccuracy: 121/175.60000000000002 (69%)\n",
      "\n",
      "\n",
      "Train Epoch: 84 [0/702.4000000000001 (0%)]\tLoss: 0.354928\n"
     ]
    },
    {
     "name": "stderr",
     "output_type": "stream",
     "text": [
      "\n",
      " 34%|███▎      | 29.49999999999997/88 [00:00<00:00, 170.61it/s] \u001b[A\n",
      "100%|██████████| 88/88 [00:00<00:00, 259.91it/s]               \u001b[A\n",
      "\n",
      "100%|██████████| 22/22 [00:00<00:00, 523.55it/s]\n",
      "\n",
      "  0%|          | 0/88 [00:00<?, ?it/s]\u001b[A\n",
      "  0%|          | 0.22727272727272732/88 [00:00<00:40,  2.19it/s]\u001b[A"
     ]
    },
    {
     "name": "stdout",
     "output_type": "stream",
     "text": [
      "\n",
      "Train Epoch: 84\tAccuracy: 548/702.4000000000001 (78%)\n",
      "\n",
      "\n",
      "Test Epoch: 84\tAccuracy: 120/175.60000000000002 (68%)\n",
      "\n",
      "\n",
      "Train Epoch: 85 [0/702.4000000000001 (0%)]\tLoss: 0.002031\n"
     ]
    },
    {
     "name": "stderr",
     "output_type": "stream",
     "text": [
      "\n",
      " 29%|██▉       | 25.47272727272724/88 [00:00<00:00, 143.80it/s] \u001b[A\n",
      "100%|██████████| 88/88 [00:00<00:00, 252.02it/s]               \u001b[A\n",
      "\n",
      "100%|██████████| 22/22 [00:00<00:00, 521.85it/s]\n",
      "\n",
      "  0%|          | 0/88 [00:00<?, ?it/s]\u001b[A\n",
      "  0%|          | 0.23636363636363641/88 [00:00<00:37,  2.33it/s]\u001b[A"
     ]
    },
    {
     "name": "stdout",
     "output_type": "stream",
     "text": [
      "\n",
      "Train Epoch: 85\tAccuracy: 546/702.4000000000001 (78%)\n",
      "\n",
      "\n",
      "Test Epoch: 85\tAccuracy: 122/175.60000000000002 (69%)\n",
      "\n",
      "\n",
      "Train Epoch: 86 [0/702.4000000000001 (0%)]\tLoss: 1.671442\n"
     ]
    },
    {
     "name": "stderr",
     "output_type": "stream",
     "text": [
      "\n",
      " 30%|███       | 26.472727272727244/88 [00:00<00:00, 151.35it/s]\u001b[A\n",
      "100%|██████████| 88/88 [00:00<00:00, 253.75it/s]                \u001b[A\n",
      "\n",
      "100%|██████████| 22/22 [00:00<00:00, 554.98it/s]\n",
      "\n",
      "  0%|          | 0/88 [00:00<?, ?it/s]\u001b[A\n",
      "  0%|          | 0.22727272727272732/88 [00:00<00:38,  2.27it/s]\u001b[A"
     ]
    },
    {
     "name": "stdout",
     "output_type": "stream",
     "text": [
      "\n",
      "Train Epoch: 86\tAccuracy: 543/702.4000000000001 (77%)\n",
      "\n",
      "\n",
      "Test Epoch: 86\tAccuracy: 128/175.60000000000002 (73%)\n",
      "\n",
      "\n",
      "Train Epoch: 87 [0/702.4000000000001 (0%)]\tLoss: 2.900242\n"
     ]
    },
    {
     "name": "stderr",
     "output_type": "stream",
     "text": [
      "\n",
      " 29%|██▉       | 25.454545454545425/88 [00:00<00:00, 148.19it/s]\u001b[A\n",
      "100%|██████████| 88/88 [00:00<00:00, 251.34it/s]                \u001b[A\n",
      "\n",
      "100%|██████████| 22/22 [00:00<00:00, 545.38it/s]\n",
      "\n",
      "  0%|          | 0/88 [00:00<?, ?it/s]\u001b[A\n",
      "  0%|          | 0.2545454545454546/88 [00:00<00:35,  2.46it/s]\u001b[A"
     ]
    },
    {
     "name": "stdout",
     "output_type": "stream",
     "text": [
      "\n",
      "Train Epoch: 87\tAccuracy: 560/702.4000000000001 (80%)\n",
      "\n",
      "\n",
      "Test Epoch: 87\tAccuracy: 122/175.60000000000002 (69%)\n",
      "\n",
      "\n",
      "Train Epoch: 88 [0/702.4000000000001 (0%)]\tLoss: 1.219320\n"
     ]
    },
    {
     "name": "stderr",
     "output_type": "stream",
     "text": [
      "\n",
      " 32%|███▏      | 28.499999999999968/88 [00:00<00:00, 163.30it/s]\u001b[A\n",
      "100%|██████████| 88/88 [00:00<00:00, 266.05it/s]                \u001b[A\n",
      "\n",
      "100%|██████████| 22/22 [00:00<00:00, 451.64it/s]\n",
      "  0%|          | 0/100 [00:33<?, ?it/s]"
     ]
    },
    {
     "name": "stdout",
     "output_type": "stream",
     "text": [
      "\n",
      "Train Epoch: 88\tAccuracy: 560/702.4000000000001 (80%)\n",
      "\n",
      "\n",
      "Test Epoch: 88\tAccuracy: 122/175.60000000000002 (69%)\n",
      "\n",
      "\n",
      " Max Test Accuracy is 73.46241457858768 when epoch is 38\n"
     ]
    },
    {
     "name": "stderr",
     "output_type": "stream",
     "text": [
      "\n"
     ]
    }
   ],
   "source": [
    "with tqdm(total=n_epoch) as pbar:\n",
    "    max_acc = 0\n",
    "    early_count = 0\n",
    "    max_epoch = 0\n",
    "    for epoch in range(1, n_epoch + 1):\n",
    "        train(model, epoch, log_interval)\n",
    "        accuracy = test(model, epoch, test_loader)\n",
    "        if max_acc < accuracy:\n",
    "            max_acc = accuracy\n",
    "            early_count = 0\n",
    "            max_epoch = epoch\n",
    "        else:\n",
    "            early_count += 1\n",
    "            if early_count == max_patient:\n",
    "                break\n",
    "        scheduler.step()\n",
    "print(f'\\n Max Test Accuracy is {max_acc} when epoch is {max_epoch}') "
   ]
  },
  {
   "cell_type": "code",
   "execution_count": null,
   "id": "confused-extent",
   "metadata": {},
   "outputs": [],
   "source": []
  }
 ],
 "metadata": {
  "kernelspec": {
   "display_name": "Python 3",
   "language": "python",
   "name": "python3"
  },
  "language_info": {
   "codemirror_mode": {
    "name": "ipython",
    "version": 3
   },
   "file_extension": ".py",
   "mimetype": "text/x-python",
   "name": "python",
   "nbconvert_exporter": "python",
   "pygments_lexer": "ipython3",
   "version": "3.8.8"
  }
 },
 "nbformat": 4,
 "nbformat_minor": 5
}
